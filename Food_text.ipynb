{
 "cells": [
  {
   "cell_type": "code",
   "execution_count": 1,
   "id": "8e197fe5",
   "metadata": {},
   "outputs": [
    {
     "name": "stdout",
     "output_type": "stream",
     "text": [
      "[jieba] default dict file path ..\\data\\vocab.txt\n"
     ]
    },
    {
     "name": "stderr",
     "output_type": "stream",
     "text": [
      "Building prefix dict from C:\\Users\\jenny\\anaconda3\\lib\\site-packages\\synonyms\\data\\vocab.txt ...\n",
      "Loading model from cache C:\\Users\\jenny\\AppData\\Local\\Temp\\jieba.u293ec38435f0667c956027d0ce0cade2.cache\n"
     ]
    },
    {
     "name": "stdout",
     "output_type": "stream",
     "text": [
      ">> Synonyms load wordseg dict [C:\\Users\\jenny\\anaconda3\\lib\\site-packages\\synonyms\\data\\vocab.txt] ... \n"
     ]
    },
    {
     "name": "stderr",
     "output_type": "stream",
     "text": [
      "Loading model cost 1.584 seconds.\n",
      "Prefix dict has been built successfully.\n"
     ]
    },
    {
     "name": "stdout",
     "output_type": "stream",
     "text": [
      ">> Synonyms on loading stopwords [C:\\Users\\jenny\\anaconda3\\lib\\site-packages\\synonyms\\data\\stopwords.txt] ...\n",
      "[Synonyms] on loading vectors [C:\\Users\\jenny\\anaconda3\\lib\\site-packages\\synonyms\\data\\words.vector.gz] ...\n"
     ]
    }
   ],
   "source": [
    "import sys\n",
    "import pandas as pd\n",
    "from pandas import DataFrame\n",
    "# import pyodbc \n",
    "import pymysql\n",
    "import os\n",
    "import re\n",
    "import numpy as np\n",
    "from fractions import Fraction\n",
    "import json\n",
    "import chardet\n",
    "from ckiptagger import WS, POS\n",
    "from ckiptagger import construct_dictionary\n",
    "from numba import jit\n",
    "\n",
    "#---------Vote---------#\n",
    "import distance                                             #Levenshtein distance演算\n",
    "import jieba                                                #結巴\n",
    "from rank_bm25 import BM25Okapi                             #bm25演算\n",
    "from sklearn.feature_extraction.text import CountVectorizer #TFIDF演算\n",
    "import synonyms                                        #synonyms演算\n",
    "from gensim.models import *                            #文字轉向量\n",
    "from sklearn.metrics.pairwise import cosine_similarity #餘弦\n"
   ]
  },
  {
   "cell_type": "code",
   "execution_count": 2,
   "id": "a3ac64c1",
   "metadata": {},
   "outputs": [],
   "source": [
    "# 資料庫連結\n",
    "db_settings = {\n",
    "    \"host\": \"localhost\",\n",
    "    \"port\": 3306,\n",
    "    \"user\": \"root\",\n",
    "    \"password\": \"1qaz2wsx3EDC\",\n",
    "    \"db\": \"Nutrition\"\n",
    "}\n",
    "conn = pymysql.connect(**db_settings)\n",
    "# 建立Cursor物件\n",
    "cursor=conn.cursor()\n",
    "\n",
    "dirname = 'nlp_txt/'\n",
    "\n",
    "ws = WS(\"C:/5Python/API/data\")\n",
    "pos = POS(\"C:/5Python/API/data\")"
   ]
  },
  {
   "cell_type": "code",
   "execution_count": 3,
   "id": "bfe6ec93",
   "metadata": {},
   "outputs": [],
   "source": [
    "#量詞字典\n",
    "def getWS_Dict():\n",
    "    global dict_temp\n",
    "    dict_temp = {}\n",
    "\n",
    "    file = open('WS_Dict.txt','r',encoding='utf-8')\n",
    "\n",
    "    for line in file.readlines():\n",
    "        line = line.strip()\n",
    "        k = line.split(' ')[0]\n",
    "        v = line.split(' ')[1]\n",
    "        dict_temp[k] = v\n",
    "\n",
    "    file.close()\n",
    "\n",
    "    global dict_for_CKIP\n",
    "    dict_for_CKIP = construct_dictionary(dict_temp)\n",
    "\n",
    "    return\n",
    "getWS_Dict()\n",
    "\n",
    "# 數字處理\n",
    "chinese_number_dict = {'半':0.5, '一':1, '七':7, '萬':10000, '三':3, '九':9,'兩':2, '二':2, '五':5, '八':8, '六':6, '十':10,'三':3, '千':1000, '四':4, '百':100, '零':0,\"億\":100000000}\n",
    "not_in_decimal = \"十百千萬億點\"\n",
    "all_Num = not_in_decimal\n",
    "for d in chinese_number_dict:\n",
    "    all_Num += d\n",
    "def ch2num(chstr):\n",
    "    if '點' not in chstr:\n",
    "        return ch2round(chstr)\n",
    "    splits = chstr.split(\"點\")\n",
    "    if len(splits) != 2:\n",
    "        return splits\n",
    "    rount = ch2round(splits[0])\n",
    "    decimal = ch2decimal(splits[-1])\n",
    "    if rount is not None and decimal is not None:\n",
    "        return float(str(rount) + \".\" + str(decimal))\n",
    "    else:\n",
    "        return None\n",
    "\n",
    "def ch2round(chstr):\n",
    "    no_op = True\n",
    "    if len(chstr) >= 2:\n",
    "        for i in chstr:\n",
    "            if i in not_in_decimal:\n",
    "                no_op = False\n",
    "    else:\n",
    "        no_op = False\n",
    "    if no_op:\n",
    "        return ch2decimal(chstr)\n",
    "\n",
    "    result = 0\n",
    "    now_base = 1\n",
    "    big_base = 1\n",
    "    big_big_base = 1\n",
    "    base_set = set()\n",
    "    chstr = chstr[::-1]\n",
    "    for i in chstr:\n",
    "        if i not in chinese_number_dict:\n",
    "            return None\n",
    "        if chinese_number_dict[i] >= 10:\n",
    "            if chinese_number_dict[i] > now_base:\n",
    "                now_base = chinese_number_dict[i]\n",
    "            elif now_base >= chinese_number_dict[\"萬\"] and now_base < chinese_number_dict[\"億\"] and chinese_number_dict[i] > big_base:\n",
    "                now_base = chinese_number_dict[i] * chinese_number_dict[\"萬\"]\n",
    "                big_base = chinese_number_dict[i]\n",
    "            elif now_base >= chinese_number_dict[\"億\"] and chinese_number_dict[i] > big_big_base:\n",
    "                now_base = chinese_number_dict[i] * chinese_number_dict[\"億\"]\n",
    "                big_big_base = chinese_number_dict[i]\n",
    "            else:\n",
    "                return None\n",
    "        else:\n",
    "            if now_base in base_set and chinese_number_dict[i] != 0:\n",
    "                return None\n",
    "            result = result + now_base * chinese_number_dict[i]\n",
    "            base_set.add(now_base)\n",
    "    if now_base not in base_set:\n",
    "        result = result + now_base * 1\n",
    "    return result\n",
    "\n",
    "def ch2decimal(chstr):\n",
    "    result = \"\"\n",
    "    for i in chstr:\n",
    "        if i in not_in_decimal:\n",
    "            return None\n",
    "        if i not in chinese_number_dict:\n",
    "            return None\n",
    "        result = result + str(chinese_number_dict[i])\n",
    "    return int(result)\n",
    "def print_word_pos_sentence(word_sentence, pos_sentence):\n",
    "    dict_list = list(dict_temp.keys())\n",
    "    jsonstr = []\n",
    "    assert len(word_sentence) == len(pos_sentence)\n",
    "    flag = 0\n",
    "    for word, pos in zip(word_sentence, pos_sentence):\n",
    "        for d in dict_list:\n",
    "            if word == d and word not in all_Num:\n",
    "                pos = \"Nf\"\n",
    "            s1 = WsTagger(word, pos)\n",
    "        jsonstr.append(json.dumps(s1.__dict__,ensure_ascii=False))\n",
    "        flag += 1\n",
    "    return jsonstr"
   ]
  },
  {
   "cell_type": "code",
   "execution_count": 21,
   "id": "a7c2ecf9",
   "metadata": {},
   "outputs": [],
   "source": [
    "sentence = \"我今天吃了一盤炒空心菜\""
   ]
  },
  {
   "cell_type": "code",
   "execution_count": 22,
   "id": "9c740685",
   "metadata": {},
   "outputs": [
    {
     "data": {
      "text/plain": [
       "[{'Name': [{'label': '我', 'Pos': 'Nh'},\n",
       "   {'label': '今天', 'Pos': 'Nd'},\n",
       "   {'label': '吃', 'Pos': 'VC'},\n",
       "   {'label': '了', 'Pos': 'Di'},\n",
       "   {'label': '一', 'Pos': 'Neu'},\n",
       "   {'label': '盤', 'Pos': 'Nf'},\n",
       "   {'label': '炒', 'Pos': 'VC'},\n",
       "   {'label': '空心菜', 'Pos': 'Na'}],\n",
       "  'Unit': '盤',\n",
       "  'Weight': 1}]"
      ]
     },
     "execution_count": 22,
     "metadata": {},
     "output_type": "execute_result"
    }
   ],
   "source": [
    "class WsTagger:\n",
    "    def __init__(self, label, Pos):\n",
    "        self.label = label\n",
    "        self.Pos = Pos\n",
    "class return_List:\n",
    "    def __init__(self, lists, Quantity):\n",
    "        self.lists = lists\n",
    "        self.Quantity = Quantity\n",
    "class getWS:\n",
    "    def __init__(self, Name, Unit, Weight):\n",
    "        self.Name = Name\n",
    "        self.Unit = Unit      \n",
    "        self.Weight = Weight \n",
    "def WSandPOS(sentence):\n",
    "\n",
    "    sentence_list = []\n",
    "    sentence_list =re.split(r'，|,|\\+|、| |加|和|配|跟|及',sentence.replace('。',''))\n",
    "    while '' in sentence_list:\n",
    "        sentence_list.remove('')\n",
    "    lists = []\n",
    "    Json_Result_List = []\n",
    "    Quantity = []\n",
    "    word_sentence_list = ws(\n",
    "        sentence_list,\n",
    "        sentence_segmentation = True, # To consider delimiters\n",
    "        recommend_dictionary = dict_for_CKIP, # words in this dictionary are encouraged\n",
    "    )\n",
    "    pos_sentence_list = pos(word_sentence_list)\n",
    "    \n",
    "    for i, sentence in enumerate(sentence_list):\n",
    "        Num = \"1\"\n",
    "        Quan = \"份\"\n",
    "        lists = print_word_pos_sentence(word_sentence_list[i],  pos_sentence_list[i])\n",
    "        flag = 0\n",
    "        getL = []\n",
    "        for l in lists:\n",
    "            getL.append(json.loads(l))\n",
    "        for item in getL:\n",
    "            if item['Pos'] == \"Nf\":\n",
    "                Quan = item['label']\n",
    "            elif item['Pos'] == \"Neu\" or item['Pos'] == \"Neqa\":\n",
    "                Num = item['label']\n",
    "\n",
    "\n",
    "        if not Num.isdigit() and \"/\" not in Num and \".\" not in Num and \"分之\" not in Num:\n",
    "            try:\n",
    "                Num = ch2num(Num)\n",
    "            except:\n",
    "                Num = \"1\"\n",
    "        elif \"/\" in Num:\n",
    "            Num = Fraction(Num)\n",
    "            Num = round(float(Num),2)\n",
    "        elif \"分之\" in Num:\n",
    "            List_Num = Num.split(\"分之\")\n",
    "            Num_0 = ch2num(List_Num[0])\n",
    "            Num_1 = ch2num(List_Num[1])\n",
    "            Num = str(Num_1)+\"/\"+str(Num_0)\n",
    "            Num = Fraction(Num)\n",
    "            Num = round(float(Num),2)\n",
    "        JsonS = getWS(getL, Quan, Num)\n",
    "        getJsonS = json.dumps(JsonS.__dict__,ensure_ascii=False)\n",
    "        Json_Result_List.append(json.loads(getJsonS))\n",
    "    # JsonResult = json.dumps(Json_Result_List,ensure_ascii=False)\n",
    "    return Json_Result_List\n",
    "WSandPOS_result = WSandPOS(sentence)\n",
    "WSandPOS(sentence)"
   ]
  },
  {
   "cell_type": "code",
   "execution_count": 23,
   "id": "6ce0e6d1",
   "metadata": {},
   "outputs": [
    {
     "name": "stdout",
     "output_type": "stream",
     "text": [
      "\n",
      "\n"
     ]
    },
    {
     "data": {
      "text/plain": [
       "500.0"
      ]
     },
     "execution_count": 23,
     "metadata": {},
     "output_type": "execute_result"
    }
   ],
   "source": [
    "def CALC_Weight(WSandPOS_result):\n",
    "    for i in WSandPOS_result:\n",
    "        print()\n",
    "        cursor.execute('SELECT Value FROM quantifier WHERE Name = \\'' + str(i['Unit']) + '\\'')\n",
    "        get_value = cursor.fetchone()\n",
    "#         print(type(get_value))\n",
    "#         print(type(i['Weight']))\n",
    "        Total_Weight = get_value[0] * i['Weight']\n",
    "    return Total_Weight\n",
    "Total_Weight = CALC_Weight(WSandPOS_result)\n",
    "CALC_Weight(WSandPOS_result)"
   ]
  },
  {
   "cell_type": "code",
   "execution_count": 24,
   "id": "75e759fe",
   "metadata": {},
   "outputs": [],
   "source": [
    "def getData():\n",
    "    global corpus_All\n",
    "    global corpus_Ingre\n",
    "    corpus_All = []\n",
    "    corpus_Ingre = []\n",
    "\n",
    "    cursor.execute('SELECT Name FROM Recipe')\n",
    "    for row in cursor:\n",
    "        corpus_All.append(row[0])\n",
    "    conn.commit()\n",
    "\n",
    "    cursor.execute('SELECT Name, TrivialName FROM Ingre')\n",
    "    for row in cursor:\n",
    "        if row[1] is not None:\n",
    "            TrivialName_List = row[1].split(',')\n",
    "            TrivialName_List = re.split(r'[,\\/;；]', row[1])\n",
    "        corpus_Ingre.append(row[0])\n",
    "\n",
    "        for tn in TrivialName_List:\n",
    "            if tn != \"\":\n",
    "                corpus_Ingre.append(tn)\n",
    "\n",
    "    corpus_Ingre = set(corpus_Ingre)\n",
    "    corpus_Ingre = list(corpus_Ingre)\n",
    "\n",
    "    corpus_All = corpus_All + corpus_Ingre\n",
    "    conn.commit()\n",
    "    return \n",
    "getData()\n",
    "# 文字檢索演算法\n",
    "def BM25(keyword,corpus_data):\n",
    "    tokenized_corpus = [list(jieba.cut(doc)) for doc in corpus_data]\n",
    "    bm25 = BM25Okapi(tokenized_corpus)\n",
    "\n",
    "    tokenized_query = list(jieba.cut(keyword))\n",
    "    doc_scores = bm25.get_scores(tokenized_query)\n",
    "    top10 = bm25.get_top_n(tokenized_query,corpus_data,n=10)\n",
    "\n",
    "    # print(\"斷詞結果:\",tokenized_corpus)\n",
    "\n",
    "    list_doc_scores = list(doc_scores)\n",
    "    list_corpus = list(corpus_data)\n",
    "\n",
    "    #df sort\n",
    "    dict_df2={\"Similarity\":list_doc_scores,\n",
    "             \"Name\":list_corpus\n",
    "            }\n",
    "    data2=DataFrame(dict_df2)\n",
    "    sult2=data2.sort_values(by=['Similarity'],ascending=False)\n",
    "    sult2 = sult2.reset_index(drop=True) #reset df index  \n",
    "    print(sult2.head(10))\n",
    "    return(sult2)\n",
    "\n",
    "def TFIDF(keyword,corpus_data):\n",
    "    class TF_IDF_Model(object):\n",
    "        def __init__(self, corpus_data):\n",
    "            self.corpus_data = corpus_data\n",
    "            self.documents_number = len(corpus_data)\n",
    "            self.tf = []\n",
    "            self.idf = {}\n",
    "            self.init()\n",
    "\n",
    "        def init(self):\n",
    "            df = {}\n",
    "            for document in self.corpus_data:\n",
    "                temp = {}\n",
    "                for word in document:\n",
    "                    temp[word] = temp.get(word, 0) + 1/len(document)\n",
    "                self.tf.append(temp)\n",
    "                for key in temp.keys():\n",
    "                    df[key] = df.get(key, 0) + 1\n",
    "            for key, value in df.items():\n",
    "                self.idf[key] = np.log(self.documents_number / (value + 1))\n",
    "\n",
    "        def get_score(self, index, keyword):\n",
    "            score = 0.0\n",
    "            for q in keyword:\n",
    "                if q not in self.tf[index]:\n",
    "                    continue\n",
    "                score += self.tf[index][q] * self.idf[q]\n",
    "            return score\n",
    "\n",
    "        def get_documents_score(self, keyword):\n",
    "            score_list = []\n",
    "            for i in range(self.documents_number):\n",
    "                score_list.append(self.get_score(i, keyword))\n",
    "            return score_list\n",
    "        \n",
    "    tf_idf_model = TF_IDF_Model(corpus_data)\n",
    "    scores = tf_idf_model.get_documents_score(keyword)\n",
    "\n",
    "    #df sort\n",
    "    dict_df4={\"Similarity\":scores,\n",
    "             \"Name\":corpus_data\n",
    "            }\n",
    "    data4=DataFrame(dict_df4)\n",
    "    sult4=data4.sort_values(by=['Similarity'],ascending=False)\n",
    "    sult4 = sult4.reset_index(drop=True) #reset df index\n",
    "    print(sult4.head(10))\n",
    "    return(sult4)\n",
    "\n",
    "def Synonyms(keyword,corpus_data):\n",
    "    Similarity_list=[]\n",
    "    name_list=[]\n",
    "\n",
    "    i=-1\n",
    "    for abc in corpus_data:\n",
    "        i=i+1\n",
    "        r = synonyms.compare(corpus_data[i], keyword, seg=False)\n",
    "        Similarity_list.append(r)\n",
    "        name_list.append(corpus_data[i])\n",
    "\n",
    "    dict_df5={\"Similarity\":Similarity_list,\n",
    "             \"Name\":name_list\n",
    "            }\n",
    "    data5=DataFrame(dict_df5)\n",
    "    sult5=data5.sort_values(by=['Similarity'],ascending=False)\n",
    "    sult5 = sult5.reset_index(drop=True) #reset df index\n",
    "    print(sult5.head(10))\n",
    "    return(sult5)\n",
    "\n",
    "def Algorithm3_Vote_Top1(keyword,corpus_data):\n",
    "    np.seterr(divide='ignore',invalid='ignore')\n",
    "    df_top1 = pd.concat([BM25(keyword,corpus_data)[0:3],TFIDF(keyword,corpus_data)[0:3],Synonyms(keyword,corpus_data)[0:3]],axis=0)\n",
    "    freq_top1 = df_top1.groupby(['Name']).count() \n",
    "    freq_top1 = freq_top1.sort_values(by=['Similarity'],ascending=False) #sort\n",
    "    freq_top1 = freq_top1.reset_index()\n",
    "    return(freq_top1)\n",
    "def BM25_Ingre(Name):\n",
    "    Result = 0\n",
    "    corpus_get = []\n",
    "    flag = 0\n",
    "    cursor.execute('SELECT Id FROM `Ingre` where Name = \\'' + Name + '\\' or TrivialName like  \\'' + Name + '\\'')\n",
    "    cursor_getIngre = cursor.fetchone()\n",
    "    if cursor_getIngre is not None:\n",
    "        Result = cursor_getIngre[0]\n",
    "    else:\n",
    "        cursor.execute('SELECT Id, Name, TrivialName FROM `Ingre` where Name like \\'' + Name + '\\' or TrivialName like  \\'%' + Name + '%\\'')\n",
    "        flag_getName = 0\n",
    "        for row in cursor:\n",
    "            Name_List = []\n",
    "            Name_List.append(row[1])\n",
    "            Name_List += re.split(r'[,\\/;]', row[2])\n",
    "            for Name_count in Name_List:\n",
    "                if Name_count == Name:\n",
    "                    flag_getName += 1\n",
    "                    if flag_getName == 1:\n",
    "                        Result = row[0]      \n",
    "        if Result == 0:\n",
    "            df = Algorithm5_Vote_Top1(Name,corpus_Ingre)\n",
    "            getName = df.iloc[0].at['Name']\n",
    "            cursor.execute('SELECT Id, Name, TrivialName FROM `Ingre` where Name like \\'' + getName + '\\' or TrivialName like  \\'%' + getName + '%\\'')\n",
    "            flag_getName = 0\n",
    "            for row in cursor:\n",
    "                Name_List = []\n",
    "                Name_List.append(row[1])\n",
    "                try:\n",
    "                    Name_List += re.split(r'[,\\/;]', row[2])\n",
    "                except:\n",
    "                    pass\n",
    "                for Name_count in Name_List:\n",
    "                    if Name_count == getName:\n",
    "                        flag_getName += 1\n",
    "                        if flag_getName == 1:\n",
    "                            Result = row[0]      \n",
    "    return Result"
   ]
  },
  {
   "cell_type": "code",
   "execution_count": 25,
   "id": "7984e3c5",
   "metadata": {},
   "outputs": [
    {
     "name": "stdout",
     "output_type": "stream",
     "text": [
      "   Similarity       Name\n",
      "0   15.455282       炒空心菜\n",
      "1   13.385497    豆腐乳炒空心菜\n",
      "2   11.127140        空心菜\n",
      "3   10.557704  干貝XO醬炒空心菜\n",
      "4    9.406562      清炒空心菜\n",
      "5    9.406562      美國空心菜\n",
      "6    6.048720        炒莧菜\n",
      "7    6.048720         炒蝦\n",
      "8    6.048720       炒綠豆芽\n",
      "9    6.048720        炒蛤蜊\n",
      "   Similarity     Name\n",
      "0    4.723928      空心菜\n",
      "1    4.582495     炒空心菜\n",
      "2    3.665996    清炒空心菜\n",
      "3    3.603739       菜心\n",
      "4    2.834357    美國空心菜\n",
      "5    2.618569  豆腐乳炒空心菜\n",
      "6    2.402493      包心菜\n",
      "7    2.402493      油菜心\n",
      "8    2.402493      鵝菜心\n",
      "9    2.402493      芥菜心\n",
      "   Similarity     Name\n",
      "0       1.000     炒空心菜\n",
      "1       0.928    清炒空心菜\n",
      "2       0.926      空心菜\n",
      "3       0.900    美國空心菜\n",
      "4       0.883  豆腐乳炒空心菜\n",
      "5       0.866      無心菜\n",
      "6       0.864      捲心菜\n",
      "7       0.855      炒莧菜\n",
      "8       0.854      包心菜\n",
      "9       0.854      炒青菜\n"
     ]
    },
    {
     "data": {
      "text/plain": [
       "[{'Id': 2427, 'Name': '炒空心菜', 'Content': False},\n",
       " {'Id': 1180, 'Name': '空心菜', 'Content': True},\n",
       " {'Id': 2891, 'Name': '清炒空心菜', 'Content': False},\n",
       " {'Id': 2346, 'Name': '豆腐乳炒空心菜', 'Content': False}]"
      ]
     },
     "execution_count": 25,
     "metadata": {},
     "output_type": "execute_result"
    }
   ],
   "source": [
    "class getIdObject:\n",
    "    def __init__(self, Id, Name, Content):\n",
    "        self.Id = Id\n",
    "        self.Name = Name\n",
    "        self.Content = Content\n",
    "def getNameAndId(Name):\n",
    "    Id = \"\"\n",
    "\n",
    "    cursor.execute('SELECT Id FROM `Recipe` where Name = \\'' + Name + '\\'')\n",
    "    get_Id_value = cursor.fetchone()\n",
    "    Content = False\n",
    "    if get_Id_value is None:\n",
    "        cursor.execute('SELECT Id, Name, TrivialName FROM `Ingre` where Name = N\\'' + Name  + '\\' or TrivialName like  \\'%' + Name + '%\\'')\n",
    "        flag_getName = 0\n",
    "        for row in cursor:\n",
    "            Name_List = []\n",
    "            Name_List.append(row[1])\n",
    "            try:\n",
    "                Name_List += re.split(r'[,\\/;]', row[2])\n",
    "            except:\n",
    "                pass\n",
    "            for Name_count in Name_List:\n",
    "                if Name_count == Name:\n",
    "                    flag_getName += 1\n",
    "                    if flag_getName == 1:\n",
    "                        get_Id_value = row[0] \n",
    "                        Content = True\n",
    "    if Content:\n",
    "        getId_Json = getIdObject(get_Id_value,Name,Content)\n",
    "    else:\n",
    "#         print(get_Id_value)\n",
    "        getId_Json = getIdObject(get_Id_value[0],Name,Content)\n",
    "    Json = json.dumps(getId_Json.__dict__,ensure_ascii=False)\n",
    "    return Json\n",
    "def get10Match(Out_lists_Json):\n",
    "    # Out_lists_Json = json.loads(Out_lists_Json)   \n",
    "    lists_mult = \"\"\n",
    "    lists_IdAndName = []\n",
    "    \n",
    "    for i in Out_lists_Json:\n",
    "        for item_name in i['Name']:\n",
    "            if item_name['Pos'] != \"Neu\" and item_name['Pos'] != \"Nf\" and item_name['Pos'] != \"Neqa\" and item_name['Pos'] != \"Nd\" and item_name['Pos'] != \"Di\" and item_name['Pos'] != \"Nh\" and item_name['label'] != \"吃\" and item_name['label'] != \"喝\" and item_name['label'] != \"早餐\" and item_name['label'] != \"午餐\" and item_name['label'] != \"晚餐\" and item_name['label'] != \"了\":\n",
    "                lists_mult += item_name['label']\n",
    " \n",
    "    df = Algorithm3_Vote_Top1(lists_mult,corpus_All)\n",
    "\n",
    "    for count in range(len(df)):\n",
    "        Name = df.iloc[count].at['Name']\n",
    "        lists_IdAndName.append(json.loads(getNameAndId(Name)))\n",
    "\n",
    "    # Out_lists_Json = json.dumps(Out_lists_Json, ensure_ascii=False)\n",
    "    return lists_IdAndName\n",
    "get10Match(WSandPOS_result)"
   ]
  },
  {
   "cell_type": "code",
   "execution_count": 30,
   "id": "ccf14d7f",
   "metadata": {},
   "outputs": [],
   "source": [
    "Result_Food = {'Id': 2427, 'Name': '炒空心菜', 'Content': False}"
   ]
  },
  {
   "cell_type": "code",
   "execution_count": 31,
   "id": "15849a37",
   "metadata": {},
   "outputs": [
    {
     "name": "stdout",
     "output_type": "stream",
     "text": [
      "3730\n",
      "3730\n"
     ]
    },
    {
     "data": {
      "text/plain": [
       "{'Id': 2427,\n",
       " 'Name': '炒空心菜',\n",
       " 'Content': False,\n",
       " 'Weight': 307.0,\n",
       " 'Food_Contents': [{'Name': '米酒', 'Weight': 15.0, 'Ingre_Id': 3730},\n",
       "  {'Name': '空心菜', 'Weight': 250.0, 'Ingre_Id': 1180},\n",
       "  {'Name': '高纖味精', 'Weight': 5.0, 'Ingre_Id': 673},\n",
       "  {'Name': '蒜', 'Weight': 32.0, 'Ingre_Id': 1753},\n",
       "  {'Name': '鹽', 'Weight': 5.0, 'Ingre_Id': 671}]}"
      ]
     },
     "execution_count": 31,
     "metadata": {},
     "output_type": "execute_result"
    }
   ],
   "source": [
    "class BM25ContentResultFormat:\n",
    "    def __init__(self, Name, Weight, Ingre_Id):\n",
    "        self.Name = Name\n",
    "        self.Weight = Weight      \n",
    "        self.Ingre_Id = Ingre_Id \n",
    "def getContents(getContent_lists_json):\n",
    "    item = getContent_lists_json\n",
    "    Id = item['Id']\n",
    "    Name = item['Name']\n",
    "    Content_Lists = []\n",
    "    WeightTotal = 0\n",
    "    if not item['Content']:\n",
    "        cursor.execute('SELECT * FROM Recipe_Item where Recipe_Id = \\'' + str(Id) + '\\'')\n",
    "        get_all_cursor = cursor.fetchall()\n",
    "        for row in get_all_cursor:\n",
    "            if row[4] is not None:\n",
    "                BM25Id = row[4]\n",
    "                WeightTotal += row[3]\n",
    "            else:\n",
    "                BM25Id = BM25_Ingre(row[2])\n",
    "                print(BM25Id)\n",
    "                WeightTotal += row[3]\n",
    "            BM25ContentResult = BM25ContentResultFormat(row[2], row[3], BM25Id)\n",
    "            \n",
    "            BM25ContentResult_Json = json.dumps(BM25ContentResult.__dict__,ensure_ascii=False)\n",
    "            BM25ContentResult_Json = json.loads(BM25ContentResult_Json)\n",
    "            \n",
    "            Content_Lists.append(BM25ContentResult_Json)\n",
    "    item['Weight'] = WeightTotal\n",
    "    item['Food_Contents'] = Content_Lists\n",
    "    # getContent_lists_json = json.dumps(getContent_lists_json, ensure_ascii=False)\n",
    "    return getContent_lists_json\n",
    "getContents_result = getContents(Result_Food)\n",
    "getContents(Result_Food)"
   ]
  },
  {
   "cell_type": "code",
   "execution_count": 28,
   "id": "1de3d6c8",
   "metadata": {},
   "outputs": [
    {
     "name": "stdout",
     "output_type": "stream",
     "text": [
      "0.0\n",
      "0.23\n",
      "3.27\n",
      "1.07\n",
      "0.31\n",
      "23.65\n",
      "0.0\n",
      "若依照食譜中的份量計算之熱量：28.529999999999998\n",
      "若依照使用者攝入的份量計算之熱量：40.76\n"
     ]
    }
   ],
   "source": [
    "def CALC_cal(getContents_result):\n",
    "    Total_cal  = 0\n",
    "    for w in getContents_result['Food_Contents']:\n",
    "        Ingre_cal = 0\n",
    "        cursor.execute('SELECT Id, Name, Protein FROM Ingre where Id = \\'' + str(w['Ingre_Id']) + '\\'')\n",
    "        get_Ingre = cursor.fetchone()\n",
    "        Ingre_cal = round(w['Weight'] * (get_Ingre[2]/100),2) # 食材個別熱量(資料庫中以每100克為單位，因此需要/100)，並四捨五入\n",
    "        Total_cal += Ingre_cal\n",
    "        print(Ingre_cal)\n",
    "    print(\"若依照食譜中的份量計算之熱量：\"+str(Total_cal))\n",
    "    Total_cal = round(Total_cal/getContents_result['Weight']*Total_Weight,2)\n",
    "    print(\"若依照使用者攝入的份量計算之熱量：\"+str(Total_cal))\n",
    "    return\n",
    "CALC_cal(getContents_result)"
   ]
  },
  {
   "cell_type": "code",
   "execution_count": 29,
   "id": "333eed0c",
   "metadata": {},
   "outputs": [
    {
     "data": {
      "text/html": [
       "<div>\n",
       "<style scoped>\n",
       "    .dataframe tbody tr th:only-of-type {\n",
       "        vertical-align: middle;\n",
       "    }\n",
       "\n",
       "    .dataframe tbody tr th {\n",
       "        vertical-align: top;\n",
       "    }\n",
       "\n",
       "    .dataframe thead th {\n",
       "        text-align: right;\n",
       "    }\n",
       "</style>\n",
       "<table border=\"1\" class=\"dataframe\">\n",
       "  <thead>\n",
       "    <tr style=\"text-align: right;\">\n",
       "      <th></th>\n",
       "      <th>Date</th>\n",
       "      <th>名稱</th>\n",
       "      <th>熱量</th>\n",
       "      <th>蛋白質</th>\n",
       "      <th>碳水化合物</th>\n",
       "      <th>脂肪</th>\n",
       "    </tr>\n",
       "  </thead>\n",
       "  <tbody>\n",
       "    <tr>\n",
       "      <th>0</th>\n",
       "      <td>20220606</td>\n",
       "      <td>鹹豬肉炒高麗菜</td>\n",
       "      <td>230.800000</td>\n",
       "      <td>9.180000</td>\n",
       "      <td>11.090000</td>\n",
       "      <td>17.210000</td>\n",
       "    </tr>\n",
       "    <tr>\n",
       "      <th>1</th>\n",
       "      <td>20220606</td>\n",
       "      <td>百香戚風</td>\n",
       "      <td>366.762554</td>\n",
       "      <td>15.993483</td>\n",
       "      <td>53.842454</td>\n",
       "      <td>10.218722</td>\n",
       "    </tr>\n",
       "    <tr>\n",
       "      <th>2</th>\n",
       "      <td>20220606</td>\n",
       "      <td>牛肉炒飯</td>\n",
       "      <td>299.587249</td>\n",
       "      <td>15.475611</td>\n",
       "      <td>52.801043</td>\n",
       "      <td>2.990803</td>\n",
       "    </tr>\n",
       "    <tr>\n",
       "      <th>3</th>\n",
       "      <td>20220606</td>\n",
       "      <td>香港風格午餐肉麵</td>\n",
       "      <td>305.514756</td>\n",
       "      <td>5.086215</td>\n",
       "      <td>42.927570</td>\n",
       "      <td>11.473865</td>\n",
       "    </tr>\n",
       "    <tr>\n",
       "      <th>4</th>\n",
       "      <td>20220606</td>\n",
       "      <td>草莓奶茶</td>\n",
       "      <td>127.420200</td>\n",
       "      <td>4.959000</td>\n",
       "      <td>22.995900</td>\n",
       "      <td>1.733400</td>\n",
       "    </tr>\n",
       "    <tr>\n",
       "      <th>5</th>\n",
       "      <td>20220606</td>\n",
       "      <td>咖哩馬鈴薯</td>\n",
       "      <td>97.062054</td>\n",
       "      <td>3.510100</td>\n",
       "      <td>13.595385</td>\n",
       "      <td>1.367013</td>\n",
       "    </tr>\n",
       "    <tr>\n",
       "      <th>6</th>\n",
       "      <td>20220606</td>\n",
       "      <td>菜脯蛋</td>\n",
       "      <td>328.349890</td>\n",
       "      <td>22.728613</td>\n",
       "      <td>3.800571</td>\n",
       "      <td>13.778441</td>\n",
       "    </tr>\n",
       "  </tbody>\n",
       "</table>\n",
       "</div>"
      ],
      "text/plain": [
       "       Date        名稱          熱量        蛋白質      碳水化合物         脂肪\n",
       "0  20220606   鹹豬肉炒高麗菜  230.800000   9.180000  11.090000  17.210000\n",
       "1  20220606      百香戚風  366.762554  15.993483  53.842454  10.218722\n",
       "2  20220606      牛肉炒飯  299.587249  15.475611  52.801043   2.990803\n",
       "3  20220606  香港風格午餐肉麵  305.514756   5.086215  42.927570  11.473865\n",
       "4  20220606      草莓奶茶  127.420200   4.959000  22.995900   1.733400\n",
       "5  20220606     咖哩馬鈴薯   97.062054   3.510100  13.595385   1.367013\n",
       "6  20220606       菜脯蛋  328.349890  22.728613   3.800571  13.778441"
      ]
     },
     "execution_count": 29,
     "metadata": {},
     "output_type": "execute_result"
    }
   ],
   "source": [
    "# 模擬數據，繪製可視化圖表\n",
    "import pandas as pd\n",
    "import plotly.express as px\n",
    "\n",
    "Record = [\n",
    "    [\"20220606\", \"鹹豬肉炒高麗菜\", 230.8, 9.18, 11.09, 17.21],\n",
    "    [\"20220606\", '百香戚風', 366.7625540277505, 15.993482526297573, 53.84245350743413, 10.21872191782975],\n",
    "    [\"20220606\", '牛肉炒飯', 299.5872491187034, 15.475610698249818, 52.80104284335613, 2.990803074029922],\n",
    "    [\"20220606\", '香港風格午餐肉麵', 305.5147564931946, 5.086214853414154, 42.92756974464416, 11.473865000727844],\n",
    "    [\"20220606\", '草莓奶茶', 127.4202, 4.959, 22.9959, 1.7334],\n",
    "    [\"20220606\", '咖哩馬鈴薯', 97.06205383978174, 3.510099600604057, 13.595384721530918, 1.367012523200989],\n",
    "    [\"20220606\", '菜脯蛋', 328.34989000669765, 22.72861292126465, 3.800571442083359, 13.778440978027342],\n",
    "    \n",
    "]\n",
    "\n",
    "Record_df = pd.DataFrame(Record)\n",
    "Record_df.columns = [\"Date\", \"名稱\", \"熱量\", \"蛋白質\", \"碳水化合物\", \"脂肪\"] \n",
    "Record_df"
   ]
  },
  {
   "cell_type": "code",
   "execution_count": 124,
   "id": "2d3058ee",
   "metadata": {},
   "outputs": [
    {
     "data": {
      "application/vnd.plotly.v1+json": {
       "config": {
        "plotlyServerURL": "https://plot.ly"
       },
       "data": [
        {
         "domain": {
          "x": [
           0,
           1
          ],
          "y": [
           0,
           1
          ]
         },
         "hole": 0.3,
         "hovertemplate": "名稱=%{label}<br>熱量=%{value}<extra></extra>",
         "labels": [
          "鹹豬肉炒高麗菜",
          "百香戚風",
          "牛肉炒飯",
          "香港風格午餐肉麵",
          "草莓奶茶",
          "咖哩馬鈴薯",
          "菜脯蛋"
         ],
         "legendgroup": "",
         "name": "",
         "showlegend": true,
         "type": "pie",
         "values": [
          230.8,
          366.7625540277505,
          299.5872491187034,
          305.5147564931946,
          127.4202,
          97.06205383978174,
          328.34989000669765
         ]
        }
       ],
       "layout": {
        "legend": {
         "tracegroupgap": 0
        },
        "template": {
         "data": {
          "bar": [
           {
            "error_x": {
             "color": "#2a3f5f"
            },
            "error_y": {
             "color": "#2a3f5f"
            },
            "marker": {
             "line": {
              "color": "#E5ECF6",
              "width": 0.5
             },
             "pattern": {
              "fillmode": "overlay",
              "size": 10,
              "solidity": 0.2
             }
            },
            "type": "bar"
           }
          ],
          "barpolar": [
           {
            "marker": {
             "line": {
              "color": "#E5ECF6",
              "width": 0.5
             },
             "pattern": {
              "fillmode": "overlay",
              "size": 10,
              "solidity": 0.2
             }
            },
            "type": "barpolar"
           }
          ],
          "carpet": [
           {
            "aaxis": {
             "endlinecolor": "#2a3f5f",
             "gridcolor": "white",
             "linecolor": "white",
             "minorgridcolor": "white",
             "startlinecolor": "#2a3f5f"
            },
            "baxis": {
             "endlinecolor": "#2a3f5f",
             "gridcolor": "white",
             "linecolor": "white",
             "minorgridcolor": "white",
             "startlinecolor": "#2a3f5f"
            },
            "type": "carpet"
           }
          ],
          "choropleth": [
           {
            "colorbar": {
             "outlinewidth": 0,
             "ticks": ""
            },
            "type": "choropleth"
           }
          ],
          "contour": [
           {
            "colorbar": {
             "outlinewidth": 0,
             "ticks": ""
            },
            "colorscale": [
             [
              0,
              "#0d0887"
             ],
             [
              0.1111111111111111,
              "#46039f"
             ],
             [
              0.2222222222222222,
              "#7201a8"
             ],
             [
              0.3333333333333333,
              "#9c179e"
             ],
             [
              0.4444444444444444,
              "#bd3786"
             ],
             [
              0.5555555555555556,
              "#d8576b"
             ],
             [
              0.6666666666666666,
              "#ed7953"
             ],
             [
              0.7777777777777778,
              "#fb9f3a"
             ],
             [
              0.8888888888888888,
              "#fdca26"
             ],
             [
              1,
              "#f0f921"
             ]
            ],
            "type": "contour"
           }
          ],
          "contourcarpet": [
           {
            "colorbar": {
             "outlinewidth": 0,
             "ticks": ""
            },
            "type": "contourcarpet"
           }
          ],
          "heatmap": [
           {
            "colorbar": {
             "outlinewidth": 0,
             "ticks": ""
            },
            "colorscale": [
             [
              0,
              "#0d0887"
             ],
             [
              0.1111111111111111,
              "#46039f"
             ],
             [
              0.2222222222222222,
              "#7201a8"
             ],
             [
              0.3333333333333333,
              "#9c179e"
             ],
             [
              0.4444444444444444,
              "#bd3786"
             ],
             [
              0.5555555555555556,
              "#d8576b"
             ],
             [
              0.6666666666666666,
              "#ed7953"
             ],
             [
              0.7777777777777778,
              "#fb9f3a"
             ],
             [
              0.8888888888888888,
              "#fdca26"
             ],
             [
              1,
              "#f0f921"
             ]
            ],
            "type": "heatmap"
           }
          ],
          "heatmapgl": [
           {
            "colorbar": {
             "outlinewidth": 0,
             "ticks": ""
            },
            "colorscale": [
             [
              0,
              "#0d0887"
             ],
             [
              0.1111111111111111,
              "#46039f"
             ],
             [
              0.2222222222222222,
              "#7201a8"
             ],
             [
              0.3333333333333333,
              "#9c179e"
             ],
             [
              0.4444444444444444,
              "#bd3786"
             ],
             [
              0.5555555555555556,
              "#d8576b"
             ],
             [
              0.6666666666666666,
              "#ed7953"
             ],
             [
              0.7777777777777778,
              "#fb9f3a"
             ],
             [
              0.8888888888888888,
              "#fdca26"
             ],
             [
              1,
              "#f0f921"
             ]
            ],
            "type": "heatmapgl"
           }
          ],
          "histogram": [
           {
            "marker": {
             "pattern": {
              "fillmode": "overlay",
              "size": 10,
              "solidity": 0.2
             }
            },
            "type": "histogram"
           }
          ],
          "histogram2d": [
           {
            "colorbar": {
             "outlinewidth": 0,
             "ticks": ""
            },
            "colorscale": [
             [
              0,
              "#0d0887"
             ],
             [
              0.1111111111111111,
              "#46039f"
             ],
             [
              0.2222222222222222,
              "#7201a8"
             ],
             [
              0.3333333333333333,
              "#9c179e"
             ],
             [
              0.4444444444444444,
              "#bd3786"
             ],
             [
              0.5555555555555556,
              "#d8576b"
             ],
             [
              0.6666666666666666,
              "#ed7953"
             ],
             [
              0.7777777777777778,
              "#fb9f3a"
             ],
             [
              0.8888888888888888,
              "#fdca26"
             ],
             [
              1,
              "#f0f921"
             ]
            ],
            "type": "histogram2d"
           }
          ],
          "histogram2dcontour": [
           {
            "colorbar": {
             "outlinewidth": 0,
             "ticks": ""
            },
            "colorscale": [
             [
              0,
              "#0d0887"
             ],
             [
              0.1111111111111111,
              "#46039f"
             ],
             [
              0.2222222222222222,
              "#7201a8"
             ],
             [
              0.3333333333333333,
              "#9c179e"
             ],
             [
              0.4444444444444444,
              "#bd3786"
             ],
             [
              0.5555555555555556,
              "#d8576b"
             ],
             [
              0.6666666666666666,
              "#ed7953"
             ],
             [
              0.7777777777777778,
              "#fb9f3a"
             ],
             [
              0.8888888888888888,
              "#fdca26"
             ],
             [
              1,
              "#f0f921"
             ]
            ],
            "type": "histogram2dcontour"
           }
          ],
          "mesh3d": [
           {
            "colorbar": {
             "outlinewidth": 0,
             "ticks": ""
            },
            "type": "mesh3d"
           }
          ],
          "parcoords": [
           {
            "line": {
             "colorbar": {
              "outlinewidth": 0,
              "ticks": ""
             }
            },
            "type": "parcoords"
           }
          ],
          "pie": [
           {
            "automargin": true,
            "type": "pie"
           }
          ],
          "scatter": [
           {
            "marker": {
             "colorbar": {
              "outlinewidth": 0,
              "ticks": ""
             }
            },
            "type": "scatter"
           }
          ],
          "scatter3d": [
           {
            "line": {
             "colorbar": {
              "outlinewidth": 0,
              "ticks": ""
             }
            },
            "marker": {
             "colorbar": {
              "outlinewidth": 0,
              "ticks": ""
             }
            },
            "type": "scatter3d"
           }
          ],
          "scattercarpet": [
           {
            "marker": {
             "colorbar": {
              "outlinewidth": 0,
              "ticks": ""
             }
            },
            "type": "scattercarpet"
           }
          ],
          "scattergeo": [
           {
            "marker": {
             "colorbar": {
              "outlinewidth": 0,
              "ticks": ""
             }
            },
            "type": "scattergeo"
           }
          ],
          "scattergl": [
           {
            "marker": {
             "colorbar": {
              "outlinewidth": 0,
              "ticks": ""
             }
            },
            "type": "scattergl"
           }
          ],
          "scattermapbox": [
           {
            "marker": {
             "colorbar": {
              "outlinewidth": 0,
              "ticks": ""
             }
            },
            "type": "scattermapbox"
           }
          ],
          "scatterpolar": [
           {
            "marker": {
             "colorbar": {
              "outlinewidth": 0,
              "ticks": ""
             }
            },
            "type": "scatterpolar"
           }
          ],
          "scatterpolargl": [
           {
            "marker": {
             "colorbar": {
              "outlinewidth": 0,
              "ticks": ""
             }
            },
            "type": "scatterpolargl"
           }
          ],
          "scatterternary": [
           {
            "marker": {
             "colorbar": {
              "outlinewidth": 0,
              "ticks": ""
             }
            },
            "type": "scatterternary"
           }
          ],
          "surface": [
           {
            "colorbar": {
             "outlinewidth": 0,
             "ticks": ""
            },
            "colorscale": [
             [
              0,
              "#0d0887"
             ],
             [
              0.1111111111111111,
              "#46039f"
             ],
             [
              0.2222222222222222,
              "#7201a8"
             ],
             [
              0.3333333333333333,
              "#9c179e"
             ],
             [
              0.4444444444444444,
              "#bd3786"
             ],
             [
              0.5555555555555556,
              "#d8576b"
             ],
             [
              0.6666666666666666,
              "#ed7953"
             ],
             [
              0.7777777777777778,
              "#fb9f3a"
             ],
             [
              0.8888888888888888,
              "#fdca26"
             ],
             [
              1,
              "#f0f921"
             ]
            ],
            "type": "surface"
           }
          ],
          "table": [
           {
            "cells": {
             "fill": {
              "color": "#EBF0F8"
             },
             "line": {
              "color": "white"
             }
            },
            "header": {
             "fill": {
              "color": "#C8D4E3"
             },
             "line": {
              "color": "white"
             }
            },
            "type": "table"
           }
          ]
         },
         "layout": {
          "annotationdefaults": {
           "arrowcolor": "#2a3f5f",
           "arrowhead": 0,
           "arrowwidth": 1
          },
          "autotypenumbers": "strict",
          "coloraxis": {
           "colorbar": {
            "outlinewidth": 0,
            "ticks": ""
           }
          },
          "colorscale": {
           "diverging": [
            [
             0,
             "#8e0152"
            ],
            [
             0.1,
             "#c51b7d"
            ],
            [
             0.2,
             "#de77ae"
            ],
            [
             0.3,
             "#f1b6da"
            ],
            [
             0.4,
             "#fde0ef"
            ],
            [
             0.5,
             "#f7f7f7"
            ],
            [
             0.6,
             "#e6f5d0"
            ],
            [
             0.7,
             "#b8e186"
            ],
            [
             0.8,
             "#7fbc41"
            ],
            [
             0.9,
             "#4d9221"
            ],
            [
             1,
             "#276419"
            ]
           ],
           "sequential": [
            [
             0,
             "#0d0887"
            ],
            [
             0.1111111111111111,
             "#46039f"
            ],
            [
             0.2222222222222222,
             "#7201a8"
            ],
            [
             0.3333333333333333,
             "#9c179e"
            ],
            [
             0.4444444444444444,
             "#bd3786"
            ],
            [
             0.5555555555555556,
             "#d8576b"
            ],
            [
             0.6666666666666666,
             "#ed7953"
            ],
            [
             0.7777777777777778,
             "#fb9f3a"
            ],
            [
             0.8888888888888888,
             "#fdca26"
            ],
            [
             1,
             "#f0f921"
            ]
           ],
           "sequentialminus": [
            [
             0,
             "#0d0887"
            ],
            [
             0.1111111111111111,
             "#46039f"
            ],
            [
             0.2222222222222222,
             "#7201a8"
            ],
            [
             0.3333333333333333,
             "#9c179e"
            ],
            [
             0.4444444444444444,
             "#bd3786"
            ],
            [
             0.5555555555555556,
             "#d8576b"
            ],
            [
             0.6666666666666666,
             "#ed7953"
            ],
            [
             0.7777777777777778,
             "#fb9f3a"
            ],
            [
             0.8888888888888888,
             "#fdca26"
            ],
            [
             1,
             "#f0f921"
            ]
           ]
          },
          "colorway": [
           "#636efa",
           "#EF553B",
           "#00cc96",
           "#ab63fa",
           "#FFA15A",
           "#19d3f3",
           "#FF6692",
           "#B6E880",
           "#FF97FF",
           "#FECB52"
          ],
          "font": {
           "color": "#2a3f5f"
          },
          "geo": {
           "bgcolor": "white",
           "lakecolor": "white",
           "landcolor": "#E5ECF6",
           "showlakes": true,
           "showland": true,
           "subunitcolor": "white"
          },
          "hoverlabel": {
           "align": "left"
          },
          "hovermode": "closest",
          "mapbox": {
           "style": "light"
          },
          "paper_bgcolor": "white",
          "plot_bgcolor": "#E5ECF6",
          "polar": {
           "angularaxis": {
            "gridcolor": "white",
            "linecolor": "white",
            "ticks": ""
           },
           "bgcolor": "#E5ECF6",
           "radialaxis": {
            "gridcolor": "white",
            "linecolor": "white",
            "ticks": ""
           }
          },
          "scene": {
           "xaxis": {
            "backgroundcolor": "#E5ECF6",
            "gridcolor": "white",
            "gridwidth": 2,
            "linecolor": "white",
            "showbackground": true,
            "ticks": "",
            "zerolinecolor": "white"
           },
           "yaxis": {
            "backgroundcolor": "#E5ECF6",
            "gridcolor": "white",
            "gridwidth": 2,
            "linecolor": "white",
            "showbackground": true,
            "ticks": "",
            "zerolinecolor": "white"
           },
           "zaxis": {
            "backgroundcolor": "#E5ECF6",
            "gridcolor": "white",
            "gridwidth": 2,
            "linecolor": "white",
            "showbackground": true,
            "ticks": "",
            "zerolinecolor": "white"
           }
          },
          "shapedefaults": {
           "line": {
            "color": "#2a3f5f"
           }
          },
          "ternary": {
           "aaxis": {
            "gridcolor": "white",
            "linecolor": "white",
            "ticks": ""
           },
           "baxis": {
            "gridcolor": "white",
            "linecolor": "white",
            "ticks": ""
           },
           "bgcolor": "#E5ECF6",
           "caxis": {
            "gridcolor": "white",
            "linecolor": "white",
            "ticks": ""
           }
          },
          "title": {
           "x": 0.05
          },
          "xaxis": {
           "automargin": true,
           "gridcolor": "white",
           "linecolor": "white",
           "ticks": "",
           "title": {
            "standoff": 15
           },
           "zerolinecolor": "white",
           "zerolinewidth": 2
          },
          "yaxis": {
           "automargin": true,
           "gridcolor": "white",
           "linecolor": "white",
           "ticks": "",
           "title": {
            "standoff": 15
           },
           "zerolinecolor": "white",
           "zerolinewidth": 2
          }
         }
        },
        "title": {
         "text": "當天熱量來源"
        }
       }
      },
      "text/html": [
       "<div>                            <div id=\"37ff3b11-e402-451d-a9ec-8f6395070870\" class=\"plotly-graph-div\" style=\"height:525px; width:100%;\"></div>            <script type=\"text/javascript\">                require([\"plotly\"], function(Plotly) {                    window.PLOTLYENV=window.PLOTLYENV || {};                                    if (document.getElementById(\"37ff3b11-e402-451d-a9ec-8f6395070870\")) {                    Plotly.newPlot(                        \"37ff3b11-e402-451d-a9ec-8f6395070870\",                        [{\"domain\":{\"x\":[0.0,1.0],\"y\":[0.0,1.0]},\"hole\":0.3,\"hovertemplate\":\"\\u540d\\u7a31=%{label}<br>\\u71b1\\u91cf=%{value}<extra></extra>\",\"labels\":[\"\\u9e79\\u8c6c\\u8089\\u7092\\u9ad8\\u9e97\\u83dc\",\"\\u767e\\u9999\\u621a\\u98a8\",\"\\u725b\\u8089\\u7092\\u98ef\",\"\\u9999\\u6e2f\\u98a8\\u683c\\u5348\\u9910\\u8089\\u9eb5\",\"\\u8349\\u8393\\u5976\\u8336\",\"\\u5496\\u54e9\\u99ac\\u9234\\u85af\",\"\\u83dc\\u812f\\u86cb\"],\"legendgroup\":\"\",\"name\":\"\",\"showlegend\":true,\"type\":\"pie\",\"values\":[230.8,366.7625540277505,299.5872491187034,305.5147564931946,127.4202,97.06205383978174,328.34989000669765]}],                        {\"legend\":{\"tracegroupgap\":0},\"template\":{\"data\":{\"bar\":[{\"error_x\":{\"color\":\"#2a3f5f\"},\"error_y\":{\"color\":\"#2a3f5f\"},\"marker\":{\"line\":{\"color\":\"#E5ECF6\",\"width\":0.5},\"pattern\":{\"fillmode\":\"overlay\",\"size\":10,\"solidity\":0.2}},\"type\":\"bar\"}],\"barpolar\":[{\"marker\":{\"line\":{\"color\":\"#E5ECF6\",\"width\":0.5},\"pattern\":{\"fillmode\":\"overlay\",\"size\":10,\"solidity\":0.2}},\"type\":\"barpolar\"}],\"carpet\":[{\"aaxis\":{\"endlinecolor\":\"#2a3f5f\",\"gridcolor\":\"white\",\"linecolor\":\"white\",\"minorgridcolor\":\"white\",\"startlinecolor\":\"#2a3f5f\"},\"baxis\":{\"endlinecolor\":\"#2a3f5f\",\"gridcolor\":\"white\",\"linecolor\":\"white\",\"minorgridcolor\":\"white\",\"startlinecolor\":\"#2a3f5f\"},\"type\":\"carpet\"}],\"choropleth\":[{\"colorbar\":{\"outlinewidth\":0,\"ticks\":\"\"},\"type\":\"choropleth\"}],\"contour\":[{\"colorbar\":{\"outlinewidth\":0,\"ticks\":\"\"},\"colorscale\":[[0.0,\"#0d0887\"],[0.1111111111111111,\"#46039f\"],[0.2222222222222222,\"#7201a8\"],[0.3333333333333333,\"#9c179e\"],[0.4444444444444444,\"#bd3786\"],[0.5555555555555556,\"#d8576b\"],[0.6666666666666666,\"#ed7953\"],[0.7777777777777778,\"#fb9f3a\"],[0.8888888888888888,\"#fdca26\"],[1.0,\"#f0f921\"]],\"type\":\"contour\"}],\"contourcarpet\":[{\"colorbar\":{\"outlinewidth\":0,\"ticks\":\"\"},\"type\":\"contourcarpet\"}],\"heatmap\":[{\"colorbar\":{\"outlinewidth\":0,\"ticks\":\"\"},\"colorscale\":[[0.0,\"#0d0887\"],[0.1111111111111111,\"#46039f\"],[0.2222222222222222,\"#7201a8\"],[0.3333333333333333,\"#9c179e\"],[0.4444444444444444,\"#bd3786\"],[0.5555555555555556,\"#d8576b\"],[0.6666666666666666,\"#ed7953\"],[0.7777777777777778,\"#fb9f3a\"],[0.8888888888888888,\"#fdca26\"],[1.0,\"#f0f921\"]],\"type\":\"heatmap\"}],\"heatmapgl\":[{\"colorbar\":{\"outlinewidth\":0,\"ticks\":\"\"},\"colorscale\":[[0.0,\"#0d0887\"],[0.1111111111111111,\"#46039f\"],[0.2222222222222222,\"#7201a8\"],[0.3333333333333333,\"#9c179e\"],[0.4444444444444444,\"#bd3786\"],[0.5555555555555556,\"#d8576b\"],[0.6666666666666666,\"#ed7953\"],[0.7777777777777778,\"#fb9f3a\"],[0.8888888888888888,\"#fdca26\"],[1.0,\"#f0f921\"]],\"type\":\"heatmapgl\"}],\"histogram\":[{\"marker\":{\"pattern\":{\"fillmode\":\"overlay\",\"size\":10,\"solidity\":0.2}},\"type\":\"histogram\"}],\"histogram2d\":[{\"colorbar\":{\"outlinewidth\":0,\"ticks\":\"\"},\"colorscale\":[[0.0,\"#0d0887\"],[0.1111111111111111,\"#46039f\"],[0.2222222222222222,\"#7201a8\"],[0.3333333333333333,\"#9c179e\"],[0.4444444444444444,\"#bd3786\"],[0.5555555555555556,\"#d8576b\"],[0.6666666666666666,\"#ed7953\"],[0.7777777777777778,\"#fb9f3a\"],[0.8888888888888888,\"#fdca26\"],[1.0,\"#f0f921\"]],\"type\":\"histogram2d\"}],\"histogram2dcontour\":[{\"colorbar\":{\"outlinewidth\":0,\"ticks\":\"\"},\"colorscale\":[[0.0,\"#0d0887\"],[0.1111111111111111,\"#46039f\"],[0.2222222222222222,\"#7201a8\"],[0.3333333333333333,\"#9c179e\"],[0.4444444444444444,\"#bd3786\"],[0.5555555555555556,\"#d8576b\"],[0.6666666666666666,\"#ed7953\"],[0.7777777777777778,\"#fb9f3a\"],[0.8888888888888888,\"#fdca26\"],[1.0,\"#f0f921\"]],\"type\":\"histogram2dcontour\"}],\"mesh3d\":[{\"colorbar\":{\"outlinewidth\":0,\"ticks\":\"\"},\"type\":\"mesh3d\"}],\"parcoords\":[{\"line\":{\"colorbar\":{\"outlinewidth\":0,\"ticks\":\"\"}},\"type\":\"parcoords\"}],\"pie\":[{\"automargin\":true,\"type\":\"pie\"}],\"scatter\":[{\"marker\":{\"colorbar\":{\"outlinewidth\":0,\"ticks\":\"\"}},\"type\":\"scatter\"}],\"scatter3d\":[{\"line\":{\"colorbar\":{\"outlinewidth\":0,\"ticks\":\"\"}},\"marker\":{\"colorbar\":{\"outlinewidth\":0,\"ticks\":\"\"}},\"type\":\"scatter3d\"}],\"scattercarpet\":[{\"marker\":{\"colorbar\":{\"outlinewidth\":0,\"ticks\":\"\"}},\"type\":\"scattercarpet\"}],\"scattergeo\":[{\"marker\":{\"colorbar\":{\"outlinewidth\":0,\"ticks\":\"\"}},\"type\":\"scattergeo\"}],\"scattergl\":[{\"marker\":{\"colorbar\":{\"outlinewidth\":0,\"ticks\":\"\"}},\"type\":\"scattergl\"}],\"scattermapbox\":[{\"marker\":{\"colorbar\":{\"outlinewidth\":0,\"ticks\":\"\"}},\"type\":\"scattermapbox\"}],\"scatterpolar\":[{\"marker\":{\"colorbar\":{\"outlinewidth\":0,\"ticks\":\"\"}},\"type\":\"scatterpolar\"}],\"scatterpolargl\":[{\"marker\":{\"colorbar\":{\"outlinewidth\":0,\"ticks\":\"\"}},\"type\":\"scatterpolargl\"}],\"scatterternary\":[{\"marker\":{\"colorbar\":{\"outlinewidth\":0,\"ticks\":\"\"}},\"type\":\"scatterternary\"}],\"surface\":[{\"colorbar\":{\"outlinewidth\":0,\"ticks\":\"\"},\"colorscale\":[[0.0,\"#0d0887\"],[0.1111111111111111,\"#46039f\"],[0.2222222222222222,\"#7201a8\"],[0.3333333333333333,\"#9c179e\"],[0.4444444444444444,\"#bd3786\"],[0.5555555555555556,\"#d8576b\"],[0.6666666666666666,\"#ed7953\"],[0.7777777777777778,\"#fb9f3a\"],[0.8888888888888888,\"#fdca26\"],[1.0,\"#f0f921\"]],\"type\":\"surface\"}],\"table\":[{\"cells\":{\"fill\":{\"color\":\"#EBF0F8\"},\"line\":{\"color\":\"white\"}},\"header\":{\"fill\":{\"color\":\"#C8D4E3\"},\"line\":{\"color\":\"white\"}},\"type\":\"table\"}]},\"layout\":{\"annotationdefaults\":{\"arrowcolor\":\"#2a3f5f\",\"arrowhead\":0,\"arrowwidth\":1},\"autotypenumbers\":\"strict\",\"coloraxis\":{\"colorbar\":{\"outlinewidth\":0,\"ticks\":\"\"}},\"colorscale\":{\"diverging\":[[0,\"#8e0152\"],[0.1,\"#c51b7d\"],[0.2,\"#de77ae\"],[0.3,\"#f1b6da\"],[0.4,\"#fde0ef\"],[0.5,\"#f7f7f7\"],[0.6,\"#e6f5d0\"],[0.7,\"#b8e186\"],[0.8,\"#7fbc41\"],[0.9,\"#4d9221\"],[1,\"#276419\"]],\"sequential\":[[0.0,\"#0d0887\"],[0.1111111111111111,\"#46039f\"],[0.2222222222222222,\"#7201a8\"],[0.3333333333333333,\"#9c179e\"],[0.4444444444444444,\"#bd3786\"],[0.5555555555555556,\"#d8576b\"],[0.6666666666666666,\"#ed7953\"],[0.7777777777777778,\"#fb9f3a\"],[0.8888888888888888,\"#fdca26\"],[1.0,\"#f0f921\"]],\"sequentialminus\":[[0.0,\"#0d0887\"],[0.1111111111111111,\"#46039f\"],[0.2222222222222222,\"#7201a8\"],[0.3333333333333333,\"#9c179e\"],[0.4444444444444444,\"#bd3786\"],[0.5555555555555556,\"#d8576b\"],[0.6666666666666666,\"#ed7953\"],[0.7777777777777778,\"#fb9f3a\"],[0.8888888888888888,\"#fdca26\"],[1.0,\"#f0f921\"]]},\"colorway\":[\"#636efa\",\"#EF553B\",\"#00cc96\",\"#ab63fa\",\"#FFA15A\",\"#19d3f3\",\"#FF6692\",\"#B6E880\",\"#FF97FF\",\"#FECB52\"],\"font\":{\"color\":\"#2a3f5f\"},\"geo\":{\"bgcolor\":\"white\",\"lakecolor\":\"white\",\"landcolor\":\"#E5ECF6\",\"showlakes\":true,\"showland\":true,\"subunitcolor\":\"white\"},\"hoverlabel\":{\"align\":\"left\"},\"hovermode\":\"closest\",\"mapbox\":{\"style\":\"light\"},\"paper_bgcolor\":\"white\",\"plot_bgcolor\":\"#E5ECF6\",\"polar\":{\"angularaxis\":{\"gridcolor\":\"white\",\"linecolor\":\"white\",\"ticks\":\"\"},\"bgcolor\":\"#E5ECF6\",\"radialaxis\":{\"gridcolor\":\"white\",\"linecolor\":\"white\",\"ticks\":\"\"}},\"scene\":{\"xaxis\":{\"backgroundcolor\":\"#E5ECF6\",\"gridcolor\":\"white\",\"gridwidth\":2,\"linecolor\":\"white\",\"showbackground\":true,\"ticks\":\"\",\"zerolinecolor\":\"white\"},\"yaxis\":{\"backgroundcolor\":\"#E5ECF6\",\"gridcolor\":\"white\",\"gridwidth\":2,\"linecolor\":\"white\",\"showbackground\":true,\"ticks\":\"\",\"zerolinecolor\":\"white\"},\"zaxis\":{\"backgroundcolor\":\"#E5ECF6\",\"gridcolor\":\"white\",\"gridwidth\":2,\"linecolor\":\"white\",\"showbackground\":true,\"ticks\":\"\",\"zerolinecolor\":\"white\"}},\"shapedefaults\":{\"line\":{\"color\":\"#2a3f5f\"}},\"ternary\":{\"aaxis\":{\"gridcolor\":\"white\",\"linecolor\":\"white\",\"ticks\":\"\"},\"baxis\":{\"gridcolor\":\"white\",\"linecolor\":\"white\",\"ticks\":\"\"},\"bgcolor\":\"#E5ECF6\",\"caxis\":{\"gridcolor\":\"white\",\"linecolor\":\"white\",\"ticks\":\"\"}},\"title\":{\"x\":0.05},\"xaxis\":{\"automargin\":true,\"gridcolor\":\"white\",\"linecolor\":\"white\",\"ticks\":\"\",\"title\":{\"standoff\":15},\"zerolinecolor\":\"white\",\"zerolinewidth\":2},\"yaxis\":{\"automargin\":true,\"gridcolor\":\"white\",\"linecolor\":\"white\",\"ticks\":\"\",\"title\":{\"standoff\":15},\"zerolinecolor\":\"white\",\"zerolinewidth\":2}}},\"title\":{\"text\":\"\\u7576\\u5929\\u71b1\\u91cf\\u4f86\\u6e90\"}},                        {\"responsive\": true}                    ).then(function(){\n",
       "                            \n",
       "var gd = document.getElementById('37ff3b11-e402-451d-a9ec-8f6395070870');\n",
       "var x = new MutationObserver(function (mutations, observer) {{\n",
       "        var display = window.getComputedStyle(gd).display;\n",
       "        if (!display || display === 'none') {{\n",
       "            console.log([gd, 'removed!']);\n",
       "            Plotly.purge(gd);\n",
       "            observer.disconnect();\n",
       "        }}\n",
       "}});\n",
       "\n",
       "// Listen for the removal of the full notebook cells\n",
       "var notebookContainer = gd.closest('#notebook-container');\n",
       "if (notebookContainer) {{\n",
       "    x.observe(notebookContainer, {childList: true});\n",
       "}}\n",
       "\n",
       "// Listen for the clearing of the current output cell\n",
       "var outputEl = gd.closest('.output');\n",
       "if (outputEl) {{\n",
       "    x.observe(outputEl, {childList: true});\n",
       "}}\n",
       "\n",
       "                        })                };                });            </script>        </div>"
      ]
     },
     "metadata": {},
     "output_type": "display_data"
    }
   ],
   "source": [
    "fig = px.pie(Record_df, values='熱量', names='名稱', title='當天熱量來源', hole=.3)\n",
    "fig.show()"
   ]
  },
  {
   "cell_type": "code",
   "execution_count": 155,
   "id": "795dc680",
   "metadata": {},
   "outputs": [
    {
     "data": {
      "text/html": [
       "<div>\n",
       "<style scoped>\n",
       "    .dataframe tbody tr th:only-of-type {\n",
       "        vertical-align: middle;\n",
       "    }\n",
       "\n",
       "    .dataframe tbody tr th {\n",
       "        vertical-align: top;\n",
       "    }\n",
       "\n",
       "    .dataframe thead th {\n",
       "        text-align: right;\n",
       "    }\n",
       "</style>\n",
       "<table border=\"1\" class=\"dataframe\">\n",
       "  <thead>\n",
       "    <tr style=\"text-align: right;\">\n",
       "      <th></th>\n",
       "      <th>Date</th>\n",
       "      <th>熱量</th>\n",
       "      <th>蛋白質</th>\n",
       "      <th>碳水化合物</th>\n",
       "      <th>脂肪</th>\n",
       "      <th>Standard</th>\n",
       "    </tr>\n",
       "  </thead>\n",
       "  <tbody>\n",
       "    <tr>\n",
       "      <th>0</th>\n",
       "      <td>20220606</td>\n",
       "      <td>1540.800000</td>\n",
       "      <td>9.180000</td>\n",
       "      <td>11.090000</td>\n",
       "      <td>17.210000</td>\n",
       "      <td>1600</td>\n",
       "    </tr>\n",
       "    <tr>\n",
       "      <th>1</th>\n",
       "      <td>20220607</td>\n",
       "      <td>1700.762554</td>\n",
       "      <td>15.993483</td>\n",
       "      <td>53.842454</td>\n",
       "      <td>10.218722</td>\n",
       "      <td>1600</td>\n",
       "    </tr>\n",
       "    <tr>\n",
       "      <th>2</th>\n",
       "      <td>20220608</td>\n",
       "      <td>1405.587249</td>\n",
       "      <td>15.475611</td>\n",
       "      <td>52.801043</td>\n",
       "      <td>2.990803</td>\n",
       "      <td>1600</td>\n",
       "    </tr>\n",
       "    <tr>\n",
       "      <th>3</th>\n",
       "      <td>20220609</td>\n",
       "      <td>1785.514756</td>\n",
       "      <td>5.086215</td>\n",
       "      <td>42.927570</td>\n",
       "      <td>11.473865</td>\n",
       "      <td>1600</td>\n",
       "    </tr>\n",
       "    <tr>\n",
       "      <th>4</th>\n",
       "      <td>20220610</td>\n",
       "      <td>1600.420200</td>\n",
       "      <td>4.959000</td>\n",
       "      <td>22.995900</td>\n",
       "      <td>1.733400</td>\n",
       "      <td>1600</td>\n",
       "    </tr>\n",
       "    <tr>\n",
       "      <th>5</th>\n",
       "      <td>20220611</td>\n",
       "      <td>1785.062054</td>\n",
       "      <td>3.510100</td>\n",
       "      <td>13.595385</td>\n",
       "      <td>1.367013</td>\n",
       "      <td>1600</td>\n",
       "    </tr>\n",
       "    <tr>\n",
       "      <th>6</th>\n",
       "      <td>20220612</td>\n",
       "      <td>1560.349890</td>\n",
       "      <td>22.728613</td>\n",
       "      <td>3.800571</td>\n",
       "      <td>13.778441</td>\n",
       "      <td>1600</td>\n",
       "    </tr>\n",
       "    <tr>\n",
       "      <th>7</th>\n",
       "      <td>20220613</td>\n",
       "      <td>1689.800000</td>\n",
       "      <td>9.180000</td>\n",
       "      <td>11.090000</td>\n",
       "      <td>17.210000</td>\n",
       "      <td>1600</td>\n",
       "    </tr>\n",
       "    <tr>\n",
       "      <th>8</th>\n",
       "      <td>20220614</td>\n",
       "      <td>1700.762554</td>\n",
       "      <td>15.993483</td>\n",
       "      <td>53.842454</td>\n",
       "      <td>10.218722</td>\n",
       "      <td>1600</td>\n",
       "    </tr>\n",
       "    <tr>\n",
       "      <th>9</th>\n",
       "      <td>20220615</td>\n",
       "      <td>1405.587249</td>\n",
       "      <td>15.475611</td>\n",
       "      <td>52.801043</td>\n",
       "      <td>2.990803</td>\n",
       "      <td>1600</td>\n",
       "    </tr>\n",
       "    <tr>\n",
       "      <th>10</th>\n",
       "      <td>20220616</td>\n",
       "      <td>1785.514756</td>\n",
       "      <td>5.086215</td>\n",
       "      <td>42.927570</td>\n",
       "      <td>11.473865</td>\n",
       "      <td>1600</td>\n",
       "    </tr>\n",
       "    <tr>\n",
       "      <th>11</th>\n",
       "      <td>20220617</td>\n",
       "      <td>1600.420200</td>\n",
       "      <td>4.959000</td>\n",
       "      <td>22.995900</td>\n",
       "      <td>1.733400</td>\n",
       "      <td>1600</td>\n",
       "    </tr>\n",
       "    <tr>\n",
       "      <th>12</th>\n",
       "      <td>20220618</td>\n",
       "      <td>1785.062054</td>\n",
       "      <td>3.510100</td>\n",
       "      <td>13.595385</td>\n",
       "      <td>1.367013</td>\n",
       "      <td>1600</td>\n",
       "    </tr>\n",
       "    <tr>\n",
       "      <th>13</th>\n",
       "      <td>20220619</td>\n",
       "      <td>1560.349890</td>\n",
       "      <td>22.728613</td>\n",
       "      <td>3.800571</td>\n",
       "      <td>13.778441</td>\n",
       "      <td>1600</td>\n",
       "    </tr>\n",
       "    <tr>\n",
       "      <th>14</th>\n",
       "      <td>20220620</td>\n",
       "      <td>1584.800000</td>\n",
       "      <td>9.180000</td>\n",
       "      <td>11.090000</td>\n",
       "      <td>17.210000</td>\n",
       "      <td>1600</td>\n",
       "    </tr>\n",
       "    <tr>\n",
       "      <th>15</th>\n",
       "      <td>20220621</td>\n",
       "      <td>1700.762554</td>\n",
       "      <td>15.993483</td>\n",
       "      <td>53.842454</td>\n",
       "      <td>10.218722</td>\n",
       "      <td>1600</td>\n",
       "    </tr>\n",
       "    <tr>\n",
       "      <th>16</th>\n",
       "      <td>20220622</td>\n",
       "      <td>1405.587249</td>\n",
       "      <td>15.475611</td>\n",
       "      <td>52.801043</td>\n",
       "      <td>2.990803</td>\n",
       "      <td>1600</td>\n",
       "    </tr>\n",
       "    <tr>\n",
       "      <th>17</th>\n",
       "      <td>20220623</td>\n",
       "      <td>1608.514756</td>\n",
       "      <td>5.086215</td>\n",
       "      <td>42.927570</td>\n",
       "      <td>11.473865</td>\n",
       "      <td>1600</td>\n",
       "    </tr>\n",
       "    <tr>\n",
       "      <th>18</th>\n",
       "      <td>20220624</td>\n",
       "      <td>1600.420200</td>\n",
       "      <td>4.959000</td>\n",
       "      <td>22.995900</td>\n",
       "      <td>1.733400</td>\n",
       "      <td>1600</td>\n",
       "    </tr>\n",
       "    <tr>\n",
       "      <th>19</th>\n",
       "      <td>20220625</td>\n",
       "      <td>1785.062054</td>\n",
       "      <td>3.510100</td>\n",
       "      <td>13.595385</td>\n",
       "      <td>1.367013</td>\n",
       "      <td>1600</td>\n",
       "    </tr>\n",
       "    <tr>\n",
       "      <th>20</th>\n",
       "      <td>20220626</td>\n",
       "      <td>1560.349890</td>\n",
       "      <td>22.728613</td>\n",
       "      <td>3.800571</td>\n",
       "      <td>13.778441</td>\n",
       "      <td>1600</td>\n",
       "    </tr>\n",
       "  </tbody>\n",
       "</table>\n",
       "</div>"
      ],
      "text/plain": [
       "        Date           熱量        蛋白質      碳水化合物         脂肪  Standard\n",
       "0   20220606  1540.800000   9.180000  11.090000  17.210000      1600\n",
       "1   20220607  1700.762554  15.993483  53.842454  10.218722      1600\n",
       "2   20220608  1405.587249  15.475611  52.801043   2.990803      1600\n",
       "3   20220609  1785.514756   5.086215  42.927570  11.473865      1600\n",
       "4   20220610  1600.420200   4.959000  22.995900   1.733400      1600\n",
       "5   20220611  1785.062054   3.510100  13.595385   1.367013      1600\n",
       "6   20220612  1560.349890  22.728613   3.800571  13.778441      1600\n",
       "7   20220613  1689.800000   9.180000  11.090000  17.210000      1600\n",
       "8   20220614  1700.762554  15.993483  53.842454  10.218722      1600\n",
       "9   20220615  1405.587249  15.475611  52.801043   2.990803      1600\n",
       "10  20220616  1785.514756   5.086215  42.927570  11.473865      1600\n",
       "11  20220617  1600.420200   4.959000  22.995900   1.733400      1600\n",
       "12  20220618  1785.062054   3.510100  13.595385   1.367013      1600\n",
       "13  20220619  1560.349890  22.728613   3.800571  13.778441      1600\n",
       "14  20220620  1584.800000   9.180000  11.090000  17.210000      1600\n",
       "15  20220621  1700.762554  15.993483  53.842454  10.218722      1600\n",
       "16  20220622  1405.587249  15.475611  52.801043   2.990803      1600\n",
       "17  20220623  1608.514756   5.086215  42.927570  11.473865      1600\n",
       "18  20220624  1600.420200   4.959000  22.995900   1.733400      1600\n",
       "19  20220625  1785.062054   3.510100  13.595385   1.367013      1600\n",
       "20  20220626  1560.349890  22.728613   3.800571  13.778441      1600"
      ]
     },
     "execution_count": 155,
     "metadata": {},
     "output_type": "execute_result"
    }
   ],
   "source": [
    "Record_Week = [\n",
    "    [\"20220606\", 1540.8, 9.18, 11.09, 17.21, 1600],\n",
    "    [\"20220607\", 1700.7625540277505, 15.993482526297573, 53.84245350743413, 10.21872191782975, 1600],\n",
    "    [\"20220608\", 1405.5872491187034, 15.475610698249818, 52.80104284335613, 2.990803074029922, 1600],\n",
    "    [\"20220609\", 1785.5147564931946, 5.086214853414154, 42.92756974464416, 11.473865000727844, 1600],\n",
    "    [\"20220610\", 1600.4202, 4.959, 22.9959, 1.7334, 1600],\n",
    "    [\"20220611\", 1785.06205383978174, 3.510099600604057, 13.595384721530918, 1.367012523200989, 1600],\n",
    "    [\"20220612\", 1560.34989000669765, 22.72861292126465, 3.800571442083359, 13.778440978027342, 1600],\n",
    "    [\"20220613\", 1689.8, 9.18, 11.09, 17.21, 1600],\n",
    "    [\"20220614\", 1700.7625540277505, 15.993482526297573, 53.84245350743413, 10.21872191782975, 1600],\n",
    "    [\"20220615\", 1405.5872491187034, 15.475610698249818, 52.80104284335613, 2.990803074029922, 1600],\n",
    "    [\"20220616\", 1785.5147564931946, 5.086214853414154, 42.92756974464416, 11.473865000727844, 1600],\n",
    "    [\"20220617\", 1600.4202, 4.959, 22.9959, 1.7334, 1600],\n",
    "    [\"20220618\", 1785.06205383978174, 3.510099600604057, 13.595384721530918, 1.367012523200989, 1600],\n",
    "    [\"20220619\", 1560.34989000669765, 22.72861292126465, 3.800571442083359, 13.778440978027342, 1600],\n",
    "    [\"20220620\", 1584.8, 9.18, 11.09, 17.21, 1600],\n",
    "    [\"20220621\", 1700.7625540277505, 15.993482526297573, 53.84245350743413, 10.21872191782975, 1600],\n",
    "    [\"20220622\", 1405.5872491187034, 15.475610698249818, 52.80104284335613, 2.990803074029922, 1600],\n",
    "    [\"20220623\", 1608.5147564931946, 5.086214853414154, 42.92756974464416, 11.473865000727844, 1600],\n",
    "    [\"20220624\", 1600.4202, 4.959, 22.9959, 1.7334, 1600],\n",
    "    [\"20220625\", 1785.06205383978174, 3.510099600604057, 13.595384721530918, 1.367012523200989, 1600],\n",
    "    [\"20220626\", 1560.34989000669765, 22.72861292126465, 3.800571442083359, 13.778440978027342, 1600],\n",
    "    \n",
    "]\n",
    "\n",
    "Record_Week_df = pd.DataFrame(Record_Week)\n",
    "Record_Week_df.columns = [\"Date\", \"熱量\", \"蛋白質\", \"碳水化合物\", \"脂肪\", 'Standard'] \n",
    "Record_Week_df"
   ]
  },
  {
   "cell_type": "code",
   "execution_count": 183,
   "id": "490e01f1",
   "metadata": {},
   "outputs": [
    {
     "data": {
      "application/vnd.plotly.v1+json": {
       "config": {
        "plotlyServerURL": "https://plot.ly"
       },
       "data": [
        {
         "hovertemplate": "variable=熱量<br>Date=%{x}<br>value=%{y}<extra></extra>",
         "legendgroup": "熱量",
         "line": {
          "color": "#636efa",
          "dash": "solid"
         },
         "mode": "lines",
         "name": "熱量",
         "orientation": "v",
         "showlegend": true,
         "type": "scatter",
         "x": [
          "20220606",
          "20220607",
          "20220608",
          "20220609",
          "20220610",
          "20220611",
          "20220612",
          "20220613",
          "20220614",
          "20220615",
          "20220616",
          "20220617",
          "20220618",
          "20220619",
          "20220620",
          "20220621",
          "20220622",
          "20220623",
          "20220624",
          "20220625",
          "20220626"
         ],
         "xaxis": "x",
         "y": [
          1540.8,
          1700.7625540277504,
          1405.5872491187033,
          1785.5147564931947,
          1600.4202,
          1785.0620538397818,
          1560.3498900066977,
          1689.8,
          1700.7625540277504,
          1405.5872491187033,
          1785.5147564931947,
          1600.4202,
          1785.0620538397818,
          1560.3498900066977,
          1584.8,
          1700.7625540277504,
          1405.5872491187033,
          1608.5147564931947,
          1600.4202,
          1785.0620538397818,
          1560.3498900066977
         ],
         "yaxis": "y"
        },
        {
         "hovertemplate": "variable=Standard<br>Date=%{x}<br>value=%{y}<extra></extra>",
         "legendgroup": "Standard",
         "line": {
          "color": "#EF553B",
          "dash": "solid"
         },
         "mode": "lines",
         "name": "Standard",
         "orientation": "v",
         "showlegend": true,
         "type": "scatter",
         "x": [
          "20220606",
          "20220607",
          "20220608",
          "20220609",
          "20220610",
          "20220611",
          "20220612",
          "20220613",
          "20220614",
          "20220615",
          "20220616",
          "20220617",
          "20220618",
          "20220619",
          "20220620",
          "20220621",
          "20220622",
          "20220623",
          "20220624",
          "20220625",
          "20220626"
         ],
         "xaxis": "x",
         "y": [
          1600,
          1600,
          1600,
          1600,
          1600,
          1600,
          1600,
          1600,
          1600,
          1600,
          1600,
          1600,
          1600,
          1600,
          1600,
          1600,
          1600,
          1600,
          1600,
          1600,
          1600
         ],
         "yaxis": "y"
        }
       ],
       "layout": {
        "legend": {
         "title": {
          "text": "variable"
         },
         "tracegroupgap": 0
        },
        "margin": {
         "t": 60
        },
        "template": {
         "data": {
          "bar": [
           {
            "error_x": {
             "color": "#2a3f5f"
            },
            "error_y": {
             "color": "#2a3f5f"
            },
            "marker": {
             "line": {
              "color": "#E5ECF6",
              "width": 0.5
             },
             "pattern": {
              "fillmode": "overlay",
              "size": 10,
              "solidity": 0.2
             }
            },
            "type": "bar"
           }
          ],
          "barpolar": [
           {
            "marker": {
             "line": {
              "color": "#E5ECF6",
              "width": 0.5
             },
             "pattern": {
              "fillmode": "overlay",
              "size": 10,
              "solidity": 0.2
             }
            },
            "type": "barpolar"
           }
          ],
          "carpet": [
           {
            "aaxis": {
             "endlinecolor": "#2a3f5f",
             "gridcolor": "white",
             "linecolor": "white",
             "minorgridcolor": "white",
             "startlinecolor": "#2a3f5f"
            },
            "baxis": {
             "endlinecolor": "#2a3f5f",
             "gridcolor": "white",
             "linecolor": "white",
             "minorgridcolor": "white",
             "startlinecolor": "#2a3f5f"
            },
            "type": "carpet"
           }
          ],
          "choropleth": [
           {
            "colorbar": {
             "outlinewidth": 0,
             "ticks": ""
            },
            "type": "choropleth"
           }
          ],
          "contour": [
           {
            "colorbar": {
             "outlinewidth": 0,
             "ticks": ""
            },
            "colorscale": [
             [
              0,
              "#0d0887"
             ],
             [
              0.1111111111111111,
              "#46039f"
             ],
             [
              0.2222222222222222,
              "#7201a8"
             ],
             [
              0.3333333333333333,
              "#9c179e"
             ],
             [
              0.4444444444444444,
              "#bd3786"
             ],
             [
              0.5555555555555556,
              "#d8576b"
             ],
             [
              0.6666666666666666,
              "#ed7953"
             ],
             [
              0.7777777777777778,
              "#fb9f3a"
             ],
             [
              0.8888888888888888,
              "#fdca26"
             ],
             [
              1,
              "#f0f921"
             ]
            ],
            "type": "contour"
           }
          ],
          "contourcarpet": [
           {
            "colorbar": {
             "outlinewidth": 0,
             "ticks": ""
            },
            "type": "contourcarpet"
           }
          ],
          "heatmap": [
           {
            "colorbar": {
             "outlinewidth": 0,
             "ticks": ""
            },
            "colorscale": [
             [
              0,
              "#0d0887"
             ],
             [
              0.1111111111111111,
              "#46039f"
             ],
             [
              0.2222222222222222,
              "#7201a8"
             ],
             [
              0.3333333333333333,
              "#9c179e"
             ],
             [
              0.4444444444444444,
              "#bd3786"
             ],
             [
              0.5555555555555556,
              "#d8576b"
             ],
             [
              0.6666666666666666,
              "#ed7953"
             ],
             [
              0.7777777777777778,
              "#fb9f3a"
             ],
             [
              0.8888888888888888,
              "#fdca26"
             ],
             [
              1,
              "#f0f921"
             ]
            ],
            "type": "heatmap"
           }
          ],
          "heatmapgl": [
           {
            "colorbar": {
             "outlinewidth": 0,
             "ticks": ""
            },
            "colorscale": [
             [
              0,
              "#0d0887"
             ],
             [
              0.1111111111111111,
              "#46039f"
             ],
             [
              0.2222222222222222,
              "#7201a8"
             ],
             [
              0.3333333333333333,
              "#9c179e"
             ],
             [
              0.4444444444444444,
              "#bd3786"
             ],
             [
              0.5555555555555556,
              "#d8576b"
             ],
             [
              0.6666666666666666,
              "#ed7953"
             ],
             [
              0.7777777777777778,
              "#fb9f3a"
             ],
             [
              0.8888888888888888,
              "#fdca26"
             ],
             [
              1,
              "#f0f921"
             ]
            ],
            "type": "heatmapgl"
           }
          ],
          "histogram": [
           {
            "marker": {
             "pattern": {
              "fillmode": "overlay",
              "size": 10,
              "solidity": 0.2
             }
            },
            "type": "histogram"
           }
          ],
          "histogram2d": [
           {
            "colorbar": {
             "outlinewidth": 0,
             "ticks": ""
            },
            "colorscale": [
             [
              0,
              "#0d0887"
             ],
             [
              0.1111111111111111,
              "#46039f"
             ],
             [
              0.2222222222222222,
              "#7201a8"
             ],
             [
              0.3333333333333333,
              "#9c179e"
             ],
             [
              0.4444444444444444,
              "#bd3786"
             ],
             [
              0.5555555555555556,
              "#d8576b"
             ],
             [
              0.6666666666666666,
              "#ed7953"
             ],
             [
              0.7777777777777778,
              "#fb9f3a"
             ],
             [
              0.8888888888888888,
              "#fdca26"
             ],
             [
              1,
              "#f0f921"
             ]
            ],
            "type": "histogram2d"
           }
          ],
          "histogram2dcontour": [
           {
            "colorbar": {
             "outlinewidth": 0,
             "ticks": ""
            },
            "colorscale": [
             [
              0,
              "#0d0887"
             ],
             [
              0.1111111111111111,
              "#46039f"
             ],
             [
              0.2222222222222222,
              "#7201a8"
             ],
             [
              0.3333333333333333,
              "#9c179e"
             ],
             [
              0.4444444444444444,
              "#bd3786"
             ],
             [
              0.5555555555555556,
              "#d8576b"
             ],
             [
              0.6666666666666666,
              "#ed7953"
             ],
             [
              0.7777777777777778,
              "#fb9f3a"
             ],
             [
              0.8888888888888888,
              "#fdca26"
             ],
             [
              1,
              "#f0f921"
             ]
            ],
            "type": "histogram2dcontour"
           }
          ],
          "mesh3d": [
           {
            "colorbar": {
             "outlinewidth": 0,
             "ticks": ""
            },
            "type": "mesh3d"
           }
          ],
          "parcoords": [
           {
            "line": {
             "colorbar": {
              "outlinewidth": 0,
              "ticks": ""
             }
            },
            "type": "parcoords"
           }
          ],
          "pie": [
           {
            "automargin": true,
            "type": "pie"
           }
          ],
          "scatter": [
           {
            "marker": {
             "colorbar": {
              "outlinewidth": 0,
              "ticks": ""
             }
            },
            "type": "scatter"
           }
          ],
          "scatter3d": [
           {
            "line": {
             "colorbar": {
              "outlinewidth": 0,
              "ticks": ""
             }
            },
            "marker": {
             "colorbar": {
              "outlinewidth": 0,
              "ticks": ""
             }
            },
            "type": "scatter3d"
           }
          ],
          "scattercarpet": [
           {
            "marker": {
             "colorbar": {
              "outlinewidth": 0,
              "ticks": ""
             }
            },
            "type": "scattercarpet"
           }
          ],
          "scattergeo": [
           {
            "marker": {
             "colorbar": {
              "outlinewidth": 0,
              "ticks": ""
             }
            },
            "type": "scattergeo"
           }
          ],
          "scattergl": [
           {
            "marker": {
             "colorbar": {
              "outlinewidth": 0,
              "ticks": ""
             }
            },
            "type": "scattergl"
           }
          ],
          "scattermapbox": [
           {
            "marker": {
             "colorbar": {
              "outlinewidth": 0,
              "ticks": ""
             }
            },
            "type": "scattermapbox"
           }
          ],
          "scatterpolar": [
           {
            "marker": {
             "colorbar": {
              "outlinewidth": 0,
              "ticks": ""
             }
            },
            "type": "scatterpolar"
           }
          ],
          "scatterpolargl": [
           {
            "marker": {
             "colorbar": {
              "outlinewidth": 0,
              "ticks": ""
             }
            },
            "type": "scatterpolargl"
           }
          ],
          "scatterternary": [
           {
            "marker": {
             "colorbar": {
              "outlinewidth": 0,
              "ticks": ""
             }
            },
            "type": "scatterternary"
           }
          ],
          "surface": [
           {
            "colorbar": {
             "outlinewidth": 0,
             "ticks": ""
            },
            "colorscale": [
             [
              0,
              "#0d0887"
             ],
             [
              0.1111111111111111,
              "#46039f"
             ],
             [
              0.2222222222222222,
              "#7201a8"
             ],
             [
              0.3333333333333333,
              "#9c179e"
             ],
             [
              0.4444444444444444,
              "#bd3786"
             ],
             [
              0.5555555555555556,
              "#d8576b"
             ],
             [
              0.6666666666666666,
              "#ed7953"
             ],
             [
              0.7777777777777778,
              "#fb9f3a"
             ],
             [
              0.8888888888888888,
              "#fdca26"
             ],
             [
              1,
              "#f0f921"
             ]
            ],
            "type": "surface"
           }
          ],
          "table": [
           {
            "cells": {
             "fill": {
              "color": "#EBF0F8"
             },
             "line": {
              "color": "white"
             }
            },
            "header": {
             "fill": {
              "color": "#C8D4E3"
             },
             "line": {
              "color": "white"
             }
            },
            "type": "table"
           }
          ]
         },
         "layout": {
          "annotationdefaults": {
           "arrowcolor": "#2a3f5f",
           "arrowhead": 0,
           "arrowwidth": 1
          },
          "autotypenumbers": "strict",
          "coloraxis": {
           "colorbar": {
            "outlinewidth": 0,
            "ticks": ""
           }
          },
          "colorscale": {
           "diverging": [
            [
             0,
             "#8e0152"
            ],
            [
             0.1,
             "#c51b7d"
            ],
            [
             0.2,
             "#de77ae"
            ],
            [
             0.3,
             "#f1b6da"
            ],
            [
             0.4,
             "#fde0ef"
            ],
            [
             0.5,
             "#f7f7f7"
            ],
            [
             0.6,
             "#e6f5d0"
            ],
            [
             0.7,
             "#b8e186"
            ],
            [
             0.8,
             "#7fbc41"
            ],
            [
             0.9,
             "#4d9221"
            ],
            [
             1,
             "#276419"
            ]
           ],
           "sequential": [
            [
             0,
             "#0d0887"
            ],
            [
             0.1111111111111111,
             "#46039f"
            ],
            [
             0.2222222222222222,
             "#7201a8"
            ],
            [
             0.3333333333333333,
             "#9c179e"
            ],
            [
             0.4444444444444444,
             "#bd3786"
            ],
            [
             0.5555555555555556,
             "#d8576b"
            ],
            [
             0.6666666666666666,
             "#ed7953"
            ],
            [
             0.7777777777777778,
             "#fb9f3a"
            ],
            [
             0.8888888888888888,
             "#fdca26"
            ],
            [
             1,
             "#f0f921"
            ]
           ],
           "sequentialminus": [
            [
             0,
             "#0d0887"
            ],
            [
             0.1111111111111111,
             "#46039f"
            ],
            [
             0.2222222222222222,
             "#7201a8"
            ],
            [
             0.3333333333333333,
             "#9c179e"
            ],
            [
             0.4444444444444444,
             "#bd3786"
            ],
            [
             0.5555555555555556,
             "#d8576b"
            ],
            [
             0.6666666666666666,
             "#ed7953"
            ],
            [
             0.7777777777777778,
             "#fb9f3a"
            ],
            [
             0.8888888888888888,
             "#fdca26"
            ],
            [
             1,
             "#f0f921"
            ]
           ]
          },
          "colorway": [
           "#636efa",
           "#EF553B",
           "#00cc96",
           "#ab63fa",
           "#FFA15A",
           "#19d3f3",
           "#FF6692",
           "#B6E880",
           "#FF97FF",
           "#FECB52"
          ],
          "font": {
           "color": "#2a3f5f"
          },
          "geo": {
           "bgcolor": "white",
           "lakecolor": "white",
           "landcolor": "#E5ECF6",
           "showlakes": true,
           "showland": true,
           "subunitcolor": "white"
          },
          "hoverlabel": {
           "align": "left"
          },
          "hovermode": "closest",
          "mapbox": {
           "style": "light"
          },
          "paper_bgcolor": "white",
          "plot_bgcolor": "#E5ECF6",
          "polar": {
           "angularaxis": {
            "gridcolor": "white",
            "linecolor": "white",
            "ticks": ""
           },
           "bgcolor": "#E5ECF6",
           "radialaxis": {
            "gridcolor": "white",
            "linecolor": "white",
            "ticks": ""
           }
          },
          "scene": {
           "xaxis": {
            "backgroundcolor": "#E5ECF6",
            "gridcolor": "white",
            "gridwidth": 2,
            "linecolor": "white",
            "showbackground": true,
            "ticks": "",
            "zerolinecolor": "white"
           },
           "yaxis": {
            "backgroundcolor": "#E5ECF6",
            "gridcolor": "white",
            "gridwidth": 2,
            "linecolor": "white",
            "showbackground": true,
            "ticks": "",
            "zerolinecolor": "white"
           },
           "zaxis": {
            "backgroundcolor": "#E5ECF6",
            "gridcolor": "white",
            "gridwidth": 2,
            "linecolor": "white",
            "showbackground": true,
            "ticks": "",
            "zerolinecolor": "white"
           }
          },
          "shapedefaults": {
           "line": {
            "color": "#2a3f5f"
           }
          },
          "ternary": {
           "aaxis": {
            "gridcolor": "white",
            "linecolor": "white",
            "ticks": ""
           },
           "baxis": {
            "gridcolor": "white",
            "linecolor": "white",
            "ticks": ""
           },
           "bgcolor": "#E5ECF6",
           "caxis": {
            "gridcolor": "white",
            "linecolor": "white",
            "ticks": ""
           }
          },
          "title": {
           "x": 0.05
          },
          "xaxis": {
           "automargin": true,
           "gridcolor": "white",
           "linecolor": "white",
           "ticks": "",
           "title": {
            "standoff": 15
           },
           "zerolinecolor": "white",
           "zerolinewidth": 2
          },
          "yaxis": {
           "automargin": true,
           "gridcolor": "white",
           "linecolor": "white",
           "ticks": "",
           "title": {
            "standoff": 15
           },
           "zerolinecolor": "white",
           "zerolinewidth": 2
          }
         }
        },
        "xaxis": {
         "anchor": "y",
         "domain": [
          0,
          1
         ],
         "title": {
          "text": "Date"
         }
        },
        "yaxis": {
         "anchor": "x",
         "domain": [
          0,
          1
         ],
         "title": {
          "text": "value"
         }
        }
       }
      },
      "text/html": [
       "<div>                            <div id=\"82efda01-245c-48fb-b5f0-5aa23947f549\" class=\"plotly-graph-div\" style=\"height:525px; width:100%;\"></div>            <script type=\"text/javascript\">                require([\"plotly\"], function(Plotly) {                    window.PLOTLYENV=window.PLOTLYENV || {};                                    if (document.getElementById(\"82efda01-245c-48fb-b5f0-5aa23947f549\")) {                    Plotly.newPlot(                        \"82efda01-245c-48fb-b5f0-5aa23947f549\",                        [{\"hovertemplate\":\"variable=\\u71b1\\u91cf<br>Date=%{x}<br>value=%{y}<extra></extra>\",\"legendgroup\":\"\\u71b1\\u91cf\",\"line\":{\"color\":\"#636efa\",\"dash\":\"solid\"},\"mode\":\"lines\",\"name\":\"\\u71b1\\u91cf\",\"orientation\":\"v\",\"showlegend\":true,\"type\":\"scatter\",\"x\":[\"20220606\",\"20220607\",\"20220608\",\"20220609\",\"20220610\",\"20220611\",\"20220612\",\"20220613\",\"20220614\",\"20220615\",\"20220616\",\"20220617\",\"20220618\",\"20220619\",\"20220620\",\"20220621\",\"20220622\",\"20220623\",\"20220624\",\"20220625\",\"20220626\"],\"xaxis\":\"x\",\"y\":[1540.8,1700.7625540277504,1405.5872491187033,1785.5147564931947,1600.4202,1785.0620538397818,1560.3498900066977,1689.8,1700.7625540277504,1405.5872491187033,1785.5147564931947,1600.4202,1785.0620538397818,1560.3498900066977,1584.8,1700.7625540277504,1405.5872491187033,1608.5147564931947,1600.4202,1785.0620538397818,1560.3498900066977],\"yaxis\":\"y\"},{\"hovertemplate\":\"variable=Standard<br>Date=%{x}<br>value=%{y}<extra></extra>\",\"legendgroup\":\"Standard\",\"line\":{\"color\":\"#EF553B\",\"dash\":\"solid\"},\"mode\":\"lines\",\"name\":\"Standard\",\"orientation\":\"v\",\"showlegend\":true,\"type\":\"scatter\",\"x\":[\"20220606\",\"20220607\",\"20220608\",\"20220609\",\"20220610\",\"20220611\",\"20220612\",\"20220613\",\"20220614\",\"20220615\",\"20220616\",\"20220617\",\"20220618\",\"20220619\",\"20220620\",\"20220621\",\"20220622\",\"20220623\",\"20220624\",\"20220625\",\"20220626\"],\"xaxis\":\"x\",\"y\":[1600.0,1600.0,1600.0,1600.0,1600.0,1600.0,1600.0,1600.0,1600.0,1600.0,1600.0,1600.0,1600.0,1600.0,1600.0,1600.0,1600.0,1600.0,1600.0,1600.0,1600.0],\"yaxis\":\"y\"}],                        {\"legend\":{\"title\":{\"text\":\"variable\"},\"tracegroupgap\":0},\"margin\":{\"t\":60},\"template\":{\"data\":{\"bar\":[{\"error_x\":{\"color\":\"#2a3f5f\"},\"error_y\":{\"color\":\"#2a3f5f\"},\"marker\":{\"line\":{\"color\":\"#E5ECF6\",\"width\":0.5},\"pattern\":{\"fillmode\":\"overlay\",\"size\":10,\"solidity\":0.2}},\"type\":\"bar\"}],\"barpolar\":[{\"marker\":{\"line\":{\"color\":\"#E5ECF6\",\"width\":0.5},\"pattern\":{\"fillmode\":\"overlay\",\"size\":10,\"solidity\":0.2}},\"type\":\"barpolar\"}],\"carpet\":[{\"aaxis\":{\"endlinecolor\":\"#2a3f5f\",\"gridcolor\":\"white\",\"linecolor\":\"white\",\"minorgridcolor\":\"white\",\"startlinecolor\":\"#2a3f5f\"},\"baxis\":{\"endlinecolor\":\"#2a3f5f\",\"gridcolor\":\"white\",\"linecolor\":\"white\",\"minorgridcolor\":\"white\",\"startlinecolor\":\"#2a3f5f\"},\"type\":\"carpet\"}],\"choropleth\":[{\"colorbar\":{\"outlinewidth\":0,\"ticks\":\"\"},\"type\":\"choropleth\"}],\"contour\":[{\"colorbar\":{\"outlinewidth\":0,\"ticks\":\"\"},\"colorscale\":[[0.0,\"#0d0887\"],[0.1111111111111111,\"#46039f\"],[0.2222222222222222,\"#7201a8\"],[0.3333333333333333,\"#9c179e\"],[0.4444444444444444,\"#bd3786\"],[0.5555555555555556,\"#d8576b\"],[0.6666666666666666,\"#ed7953\"],[0.7777777777777778,\"#fb9f3a\"],[0.8888888888888888,\"#fdca26\"],[1.0,\"#f0f921\"]],\"type\":\"contour\"}],\"contourcarpet\":[{\"colorbar\":{\"outlinewidth\":0,\"ticks\":\"\"},\"type\":\"contourcarpet\"}],\"heatmap\":[{\"colorbar\":{\"outlinewidth\":0,\"ticks\":\"\"},\"colorscale\":[[0.0,\"#0d0887\"],[0.1111111111111111,\"#46039f\"],[0.2222222222222222,\"#7201a8\"],[0.3333333333333333,\"#9c179e\"],[0.4444444444444444,\"#bd3786\"],[0.5555555555555556,\"#d8576b\"],[0.6666666666666666,\"#ed7953\"],[0.7777777777777778,\"#fb9f3a\"],[0.8888888888888888,\"#fdca26\"],[1.0,\"#f0f921\"]],\"type\":\"heatmap\"}],\"heatmapgl\":[{\"colorbar\":{\"outlinewidth\":0,\"ticks\":\"\"},\"colorscale\":[[0.0,\"#0d0887\"],[0.1111111111111111,\"#46039f\"],[0.2222222222222222,\"#7201a8\"],[0.3333333333333333,\"#9c179e\"],[0.4444444444444444,\"#bd3786\"],[0.5555555555555556,\"#d8576b\"],[0.6666666666666666,\"#ed7953\"],[0.7777777777777778,\"#fb9f3a\"],[0.8888888888888888,\"#fdca26\"],[1.0,\"#f0f921\"]],\"type\":\"heatmapgl\"}],\"histogram\":[{\"marker\":{\"pattern\":{\"fillmode\":\"overlay\",\"size\":10,\"solidity\":0.2}},\"type\":\"histogram\"}],\"histogram2d\":[{\"colorbar\":{\"outlinewidth\":0,\"ticks\":\"\"},\"colorscale\":[[0.0,\"#0d0887\"],[0.1111111111111111,\"#46039f\"],[0.2222222222222222,\"#7201a8\"],[0.3333333333333333,\"#9c179e\"],[0.4444444444444444,\"#bd3786\"],[0.5555555555555556,\"#d8576b\"],[0.6666666666666666,\"#ed7953\"],[0.7777777777777778,\"#fb9f3a\"],[0.8888888888888888,\"#fdca26\"],[1.0,\"#f0f921\"]],\"type\":\"histogram2d\"}],\"histogram2dcontour\":[{\"colorbar\":{\"outlinewidth\":0,\"ticks\":\"\"},\"colorscale\":[[0.0,\"#0d0887\"],[0.1111111111111111,\"#46039f\"],[0.2222222222222222,\"#7201a8\"],[0.3333333333333333,\"#9c179e\"],[0.4444444444444444,\"#bd3786\"],[0.5555555555555556,\"#d8576b\"],[0.6666666666666666,\"#ed7953\"],[0.7777777777777778,\"#fb9f3a\"],[0.8888888888888888,\"#fdca26\"],[1.0,\"#f0f921\"]],\"type\":\"histogram2dcontour\"}],\"mesh3d\":[{\"colorbar\":{\"outlinewidth\":0,\"ticks\":\"\"},\"type\":\"mesh3d\"}],\"parcoords\":[{\"line\":{\"colorbar\":{\"outlinewidth\":0,\"ticks\":\"\"}},\"type\":\"parcoords\"}],\"pie\":[{\"automargin\":true,\"type\":\"pie\"}],\"scatter\":[{\"marker\":{\"colorbar\":{\"outlinewidth\":0,\"ticks\":\"\"}},\"type\":\"scatter\"}],\"scatter3d\":[{\"line\":{\"colorbar\":{\"outlinewidth\":0,\"ticks\":\"\"}},\"marker\":{\"colorbar\":{\"outlinewidth\":0,\"ticks\":\"\"}},\"type\":\"scatter3d\"}],\"scattercarpet\":[{\"marker\":{\"colorbar\":{\"outlinewidth\":0,\"ticks\":\"\"}},\"type\":\"scattercarpet\"}],\"scattergeo\":[{\"marker\":{\"colorbar\":{\"outlinewidth\":0,\"ticks\":\"\"}},\"type\":\"scattergeo\"}],\"scattergl\":[{\"marker\":{\"colorbar\":{\"outlinewidth\":0,\"ticks\":\"\"}},\"type\":\"scattergl\"}],\"scattermapbox\":[{\"marker\":{\"colorbar\":{\"outlinewidth\":0,\"ticks\":\"\"}},\"type\":\"scattermapbox\"}],\"scatterpolar\":[{\"marker\":{\"colorbar\":{\"outlinewidth\":0,\"ticks\":\"\"}},\"type\":\"scatterpolar\"}],\"scatterpolargl\":[{\"marker\":{\"colorbar\":{\"outlinewidth\":0,\"ticks\":\"\"}},\"type\":\"scatterpolargl\"}],\"scatterternary\":[{\"marker\":{\"colorbar\":{\"outlinewidth\":0,\"ticks\":\"\"}},\"type\":\"scatterternary\"}],\"surface\":[{\"colorbar\":{\"outlinewidth\":0,\"ticks\":\"\"},\"colorscale\":[[0.0,\"#0d0887\"],[0.1111111111111111,\"#46039f\"],[0.2222222222222222,\"#7201a8\"],[0.3333333333333333,\"#9c179e\"],[0.4444444444444444,\"#bd3786\"],[0.5555555555555556,\"#d8576b\"],[0.6666666666666666,\"#ed7953\"],[0.7777777777777778,\"#fb9f3a\"],[0.8888888888888888,\"#fdca26\"],[1.0,\"#f0f921\"]],\"type\":\"surface\"}],\"table\":[{\"cells\":{\"fill\":{\"color\":\"#EBF0F8\"},\"line\":{\"color\":\"white\"}},\"header\":{\"fill\":{\"color\":\"#C8D4E3\"},\"line\":{\"color\":\"white\"}},\"type\":\"table\"}]},\"layout\":{\"annotationdefaults\":{\"arrowcolor\":\"#2a3f5f\",\"arrowhead\":0,\"arrowwidth\":1},\"autotypenumbers\":\"strict\",\"coloraxis\":{\"colorbar\":{\"outlinewidth\":0,\"ticks\":\"\"}},\"colorscale\":{\"diverging\":[[0,\"#8e0152\"],[0.1,\"#c51b7d\"],[0.2,\"#de77ae\"],[0.3,\"#f1b6da\"],[0.4,\"#fde0ef\"],[0.5,\"#f7f7f7\"],[0.6,\"#e6f5d0\"],[0.7,\"#b8e186\"],[0.8,\"#7fbc41\"],[0.9,\"#4d9221\"],[1,\"#276419\"]],\"sequential\":[[0.0,\"#0d0887\"],[0.1111111111111111,\"#46039f\"],[0.2222222222222222,\"#7201a8\"],[0.3333333333333333,\"#9c179e\"],[0.4444444444444444,\"#bd3786\"],[0.5555555555555556,\"#d8576b\"],[0.6666666666666666,\"#ed7953\"],[0.7777777777777778,\"#fb9f3a\"],[0.8888888888888888,\"#fdca26\"],[1.0,\"#f0f921\"]],\"sequentialminus\":[[0.0,\"#0d0887\"],[0.1111111111111111,\"#46039f\"],[0.2222222222222222,\"#7201a8\"],[0.3333333333333333,\"#9c179e\"],[0.4444444444444444,\"#bd3786\"],[0.5555555555555556,\"#d8576b\"],[0.6666666666666666,\"#ed7953\"],[0.7777777777777778,\"#fb9f3a\"],[0.8888888888888888,\"#fdca26\"],[1.0,\"#f0f921\"]]},\"colorway\":[\"#636efa\",\"#EF553B\",\"#00cc96\",\"#ab63fa\",\"#FFA15A\",\"#19d3f3\",\"#FF6692\",\"#B6E880\",\"#FF97FF\",\"#FECB52\"],\"font\":{\"color\":\"#2a3f5f\"},\"geo\":{\"bgcolor\":\"white\",\"lakecolor\":\"white\",\"landcolor\":\"#E5ECF6\",\"showlakes\":true,\"showland\":true,\"subunitcolor\":\"white\"},\"hoverlabel\":{\"align\":\"left\"},\"hovermode\":\"closest\",\"mapbox\":{\"style\":\"light\"},\"paper_bgcolor\":\"white\",\"plot_bgcolor\":\"#E5ECF6\",\"polar\":{\"angularaxis\":{\"gridcolor\":\"white\",\"linecolor\":\"white\",\"ticks\":\"\"},\"bgcolor\":\"#E5ECF6\",\"radialaxis\":{\"gridcolor\":\"white\",\"linecolor\":\"white\",\"ticks\":\"\"}},\"scene\":{\"xaxis\":{\"backgroundcolor\":\"#E5ECF6\",\"gridcolor\":\"white\",\"gridwidth\":2,\"linecolor\":\"white\",\"showbackground\":true,\"ticks\":\"\",\"zerolinecolor\":\"white\"},\"yaxis\":{\"backgroundcolor\":\"#E5ECF6\",\"gridcolor\":\"white\",\"gridwidth\":2,\"linecolor\":\"white\",\"showbackground\":true,\"ticks\":\"\",\"zerolinecolor\":\"white\"},\"zaxis\":{\"backgroundcolor\":\"#E5ECF6\",\"gridcolor\":\"white\",\"gridwidth\":2,\"linecolor\":\"white\",\"showbackground\":true,\"ticks\":\"\",\"zerolinecolor\":\"white\"}},\"shapedefaults\":{\"line\":{\"color\":\"#2a3f5f\"}},\"ternary\":{\"aaxis\":{\"gridcolor\":\"white\",\"linecolor\":\"white\",\"ticks\":\"\"},\"baxis\":{\"gridcolor\":\"white\",\"linecolor\":\"white\",\"ticks\":\"\"},\"bgcolor\":\"#E5ECF6\",\"caxis\":{\"gridcolor\":\"white\",\"linecolor\":\"white\",\"ticks\":\"\"}},\"title\":{\"x\":0.05},\"xaxis\":{\"automargin\":true,\"gridcolor\":\"white\",\"linecolor\":\"white\",\"ticks\":\"\",\"title\":{\"standoff\":15},\"zerolinecolor\":\"white\",\"zerolinewidth\":2},\"yaxis\":{\"automargin\":true,\"gridcolor\":\"white\",\"linecolor\":\"white\",\"ticks\":\"\",\"title\":{\"standoff\":15},\"zerolinecolor\":\"white\",\"zerolinewidth\":2}}},\"xaxis\":{\"anchor\":\"y\",\"domain\":[0.0,1.0],\"title\":{\"text\":\"Date\"}},\"yaxis\":{\"anchor\":\"x\",\"domain\":[0.0,1.0],\"title\":{\"text\":\"value\"}}},                        {\"responsive\": true}                    ).then(function(){\n",
       "                            \n",
       "var gd = document.getElementById('82efda01-245c-48fb-b5f0-5aa23947f549');\n",
       "var x = new MutationObserver(function (mutations, observer) {{\n",
       "        var display = window.getComputedStyle(gd).display;\n",
       "        if (!display || display === 'none') {{\n",
       "            console.log([gd, 'removed!']);\n",
       "            Plotly.purge(gd);\n",
       "            observer.disconnect();\n",
       "        }}\n",
       "}});\n",
       "\n",
       "// Listen for the removal of the full notebook cells\n",
       "var notebookContainer = gd.closest('#notebook-container');\n",
       "if (notebookContainer) {{\n",
       "    x.observe(notebookContainer, {childList: true});\n",
       "}}\n",
       "\n",
       "// Listen for the clearing of the current output cell\n",
       "var outputEl = gd.closest('.output');\n",
       "if (outputEl) {{\n",
       "    x.observe(outputEl, {childList: true});\n",
       "}}\n",
       "\n",
       "                        })                };                });            </script>        </div>"
      ]
     },
     "metadata": {},
     "output_type": "display_data"
    }
   ],
   "source": [
    "plot = px.line(Record_Week_df, x = 'Date', \n",
    "               y = ['熱量', 'Standard'], ) \n",
    "# plot = px.line(Record_Week_df, x = 'Date', \n",
    "#                y = 'Standard', ) \n",
    "plot.show()"
   ]
  }
 ],
 "metadata": {
  "kernelspec": {
   "display_name": "Python 3 (ipykernel)",
   "language": "python",
   "name": "python3"
  },
  "language_info": {
   "codemirror_mode": {
    "name": "ipython",
    "version": 3
   },
   "file_extension": ".py",
   "mimetype": "text/x-python",
   "name": "python",
   "nbconvert_exporter": "python",
   "pygments_lexer": "ipython3",
   "version": "3.8.8"
  }
 },
 "nbformat": 4,
 "nbformat_minor": 5
}
